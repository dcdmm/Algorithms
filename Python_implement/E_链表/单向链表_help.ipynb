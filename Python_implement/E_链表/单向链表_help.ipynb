{
 "cells": [
  {
   "cell_type": "markdown",
   "metadata": {
    "collapsed": true,
    "pycharm": {
     "name": "#%% md\n"
    }
   },
   "source": [
    "&emsp;&emsp;A singly linked list, in its simplest form, is a collection of nodes that collectively form a linear sequence.\n",
    "Each node stores a reference to an object that is an element of the sequence,\n",
    "as well as a reference to the next node of the list(See the Figure below)\n",
    "\n",
    "<img src='img/单向链表.png'>\n",
    "\n",
    "&emsp;&emsp;The first and last node of a linked list are known as the head and tail of the list,\n",
    "respectively. By starting at the head, and moving from one node to another by following each node’s next reference,\n",
    "we can reach the tail of the list. We can identify the tail as the node having None as its next reference.\n",
    "This process is commonly known as traversing the linked list.\n",
    "Because the next reference of a node can be viewed as a link or pointer to another node,\n",
    "the process of traversing a list is also known as link hopping or pointer hopping.\n",
    "\n",
    "&emsp;&emsp;A linked list’s representation in memory relies on the collaboration of many objects.\n",
    "Each node is represented as a unique object, with that instance storing a reference to its element and a reference to the next node (or None).\n",
    "Another object represents the linked list as a whole. Minimally, the linked list instance must keep a reference to the head of the list.\n",
    "Without an explicit reference to the head, there would be no way to locate that node (or indirectly, any others).\n",
    "There is not an absolute need to store a direct reference to the tail of the list,\n",
    "as it could otherwise be located by starting at the head and traversing the rest of the list.\n",
    "However, storing an explicit reference to the tail node is a common convenience to avoid such a traversal.\n",
    "In similar regard, it is common for the linked list instance to keep a count of the total number of nodes that comprise the list (commonly described as the size of the list),\n",
    "to avoid the need to traverse the list to count the nodes.\n",
    "\n",
    "\n",
    "### 在单向链表的头部插入一个元素\n",
    "\n",
    "<img src='img/头部插入一个元素.png'>\n",
    "\n",
    "\n",
    "### 在单向链表的尾部插入一个元素\n",
    "\n",
    "<img src='img/尾部插入一个元素.png'>\n",
    "\n",
    "\n",
    "### 在单向链表的头部删除一个节点\n",
    "\n",
    "<img src='img/头部删除一个节点.png'>"
   ]
  },
  {
   "cell_type": "code",
   "execution_count": null,
   "metadata": {},
   "outputs": [],
   "source": []
  }
 ],
 "metadata": {
  "kernelspec": {
   "display_name": "Python 3",
   "language": "python",
   "name": "python3"
  },
  "language_info": {
   "codemirror_mode": {
    "name": "ipython",
    "version": 3
   },
   "file_extension": ".py",
   "mimetype": "text/x-python",
   "name": "python",
   "nbconvert_exporter": "python",
   "pygments_lexer": "ipython3",
   "version": "3.8.5"
  }
 },
 "nbformat": 4,
 "nbformat_minor": 1
}
