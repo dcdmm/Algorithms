{
 "cells": [
  {
   "cell_type": "code",
   "execution_count": 2,
   "metadata": {},
   "outputs": [
    {
     "name": "stdout",
     "output_type": "stream",
     "text": [
      "init:   [[]]\n",
      "append: [[], ['a']]\n",
      "append: [[], ['a'], ['b'], ['a', 'b']]\n",
      "append: [[], ['a'], ['b'], ['a', 'b'], ['c'], ['a', 'c'], ['b', 'c'], ['a', 'b', 'c']]\n"
     ]
    }
   ],
   "source": [
    "import copy\n",
    "\n",
    "\n",
    "def subsets(lst):\n",
    "    \"\"\"循环实现\"\"\"\n",
    "    result = [[]]\n",
    "    print('init:  ', result)\n",
    "    for num in lst:\n",
    "        for element in result[:]:\n",
    "            x = copy.copy(element)  # 也可以像上面一样写为element[:]\n",
    "            x.append(num)\n",
    "            result.append(x)\n",
    "        print(\"append:\", result)\n",
    "\n",
    "\n",
    "seq = ['a', 'b', 'c']  # 无重复数字\n",
    "subsets(seq)"
   ]
  },
  {
   "cell_type": "markdown",
   "metadata": {
    "pycharm": {
     "name": "#%% md\n"
    }
   },
   "source": [
    "<img src=\"../img/subset.png\">"
   ]
  },
  {
   "cell_type": "code",
   "execution_count": 44,
   "metadata": {
    "pycharm": {
     "name": "#%%\n"
    }
   },
   "outputs": [
    {
     "name": "stdout",
     "output_type": "stream",
     "text": [
      "[]\n",
      "[[], ['a'], ['a', 'b'], ['a', 'b', 'c'], ['a', 'c'], ['b'], ['b', 'c'], ['c']]\n"
     ]
    }
   ],
   "source": [
    "'''\n",
    "代码流程:\n",
    "init:result=[], lst=[], pos=0\n",
    "    * 最外层递归函数\n",
    "    result=[[]] \n",
    "        循环:range(0, 3), i=0, lst=['a']\n",
    "            * 进入递归函数\n",
    "            result=[[], ['a']]\n",
    "            \n",
    "                循环range(1, 3), i=1, lst=['a', 'b'], \n",
    "                    * 进入递归函数\n",
    "                    result=[[], ['a'], ['a', 'b']]\n",
    "                    \n",
    "                        循环range(2, 3), i=2, lst=['a', 'b', 'c']               \n",
    "                            * 进入递归函数\n",
    "                            result=[[], ['a'], ['a', 'b'], ['a', 'b', 'c']].此递归函数结束     \n",
    "                            * 弹出,lst=['a', 'b']\n",
    "                            \n",
    "                    * 弹出,lst=['a']   \n",
    "                \n",
    "                \n",
    "                循环range(1, 3), i=2, lst=['a', 'c']\n",
    "                    * 进入递归函数\n",
    "                    result=[[], ['a'], ['a', 'b'], ['a', 'b', 'c'], ['a', 'c']],此递归函数结束\n",
    "                    * 弹出,lst=['a']\n",
    "                    \n",
    "            * 弹出,lst=[]\n",
    "                \n",
    "                        \n",
    "        循环:ragne(0, 3), i=1, lst=['b']\n",
    "            * 进入递归函数\n",
    "            result=[[], ['a'], ['a', 'b'], ['a', 'b', 'c'], ['a', 'c'], ['b']]\n",
    "                循环range(2, 3), i=2, lst=['b', 'c']\n",
    "                    * 进入递归函数\n",
    "                    result=[[], ['a'], ['a', 'b'], ['a', 'b', 'c'], ['a', 'c'], ['b'], ['b', 'c']],此递归函数结束\n",
    "                    * 弹出,lst=['b']\n",
    "            * 弹出,lst=[]\n",
    "            \n",
    "            \n",
    "        循环:ragne(0, 3), i=2, lst=['c']\n",
    "            * 进入递归函数\n",
    "            result=[[], ['a'], ['a', 'b'], ['a', 'b', 'c'], ['a', 'c'], ['b'], ['b', 'c'], 'c'],此递归函数结束\n",
    "            * 弹出,lst=[]\n",
    "'''\n",
    "\n",
    "\n",
    "def subsets_recursive(nums):\n",
    "    \"\"\"递归实现\"\"\"\n",
    "    result = []\n",
    "    lst = []\n",
    "    subsets_recursive_helper(result, lst, nums, 0)\n",
    "    print(lst)  # 最终lst=[]\n",
    "    return result\n",
    "\n",
    "\n",
    "def subsets_recursive_helper(result, lst, nums, pos):\n",
    "    result.append(lst[:])\n",
    "    for i in range(pos, len(nums)):\n",
    "        lst.append(nums[i])\n",
    "        subsets_recursive_helper(result, lst, nums, i + 1)\n",
    "        lst.pop()  # lst为可变数据类型,故此处需要进行回溯\n",
    "\n",
    "\n",
    "seq_1 = ['a', 'b', 'c']\n",
    "print(subsets_recursive(seq_1))"
   ]
  },
  {
   "cell_type": "code",
   "execution_count": null,
   "metadata": {},
   "outputs": [],
   "source": []
  }
 ],
 "metadata": {
  "kernelspec": {
   "display_name": "Python 3",
   "language": "python",
   "name": "python3"
  },
  "language_info": {
   "codemirror_mode": {
    "name": "ipython",
    "version": 3
   },
   "file_extension": ".py",
   "mimetype": "text/x-python",
   "name": "python",
   "nbconvert_exporter": "python",
   "pygments_lexer": "ipython3",
   "version": "3.8.5-final"
  }
 },
 "nbformat": 4,
 "nbformat_minor": 1
}
