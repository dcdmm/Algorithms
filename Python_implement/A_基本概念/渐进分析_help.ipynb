{
 "cells": [
  {
   "cell_type": "markdown",
   "metadata": {},
   "source": [
    "&emsp;&emsp;令$f(n)$和$g(n)$为正实数映射正整数的函数.如果有实型常量$c>0$和整型常量$n_0 \\geq 1$满足\n",
    "\n",
    "$$ f(n) \\leq c g(n), \\text{当} n \\geq n_0$$\n",
    "\n",
    "就说$f(n)$ 是$O(g(n))$.这种定义就是通常说的大O符号(或者说$f(n)$是$g(m)$的量级).\n",
    "\n",
    "&emsp;&emsp;当我们说\"运行时间为$O(n^2)$\"时,意指存在一个$O(n^2)$的函数$f(n)$,使得对$n$的任意值,不管选择什么特定的规模为$n$的输入,其运行时间的上界都是$f(n)$.这也就是说<font color='red'>最坏情况运行时间</font>为$O(n^2)$\n",
    "\n",
    "&emsp;&emsp;如果$f(n)$是一个指数为$d$的多项式,即\n",
    "\n",
    "$$ f(n) = a_0 + a_1n + \\cdots + a_d n^d $$\n",
    "\n",
    "且$a_d >0$,则$f(n)$是$O(n^d)$.(易证)\n",
    "\n",
    "***\n",
    "\n",
    "&emsp;&emsp;若存在实常数$ c >0 $和一个整型常数$n_0 \\geq 1 $满足\n",
    "\n",
    "$$ f(n) \\geq c g(n) , \\text{当} n \\geq n_0 \\text{时} $$\n",
    "\n",
    "我们就说$f(n)$是$\\Omega (g(n)$,描述为$f(n)$ 是$g(n)$大的$\\Omega$.\n",
    "\n",
    "***\n",
    "\n",
    "&emsp;&emsp;若存在实常数$ c^{'} > 0, c^{''} > 0$和一个整型常数$n_0 \\geq 1 $满足\n",
    "\n",
    "$$ c^{'} g(n) \\geq f(n) \\geq c^{''}g(n) , \\text{当} n \\geq n_0 \\text{时} $$\n",
    "\n",
    "我们就说$f(n)$是$\\Theta (g(n)$,描述为$f(n)$ 是$g(n)$大的$\\Theta$.\n",
    "\n",
    "***"
   ]
  }
 ],
 "metadata": {
  "kernelspec": {
   "display_name": "Rust",
   "language": "rust",
   "name": "rust"
  },
  "language_info": {
   "codemirror_mode": {
    "name": "ipython",
    "version": 3
   },
   "file_extension": ".py",
   "mimetype": "text/x-python",
   "name": "rust",
   "nbconvert_exporter": "python",
   "pygments_lexer": "ipython3",
   "version": "3.8.5-final"
  }
 },
 "nbformat": 4,
 "nbformat_minor": 4
}
