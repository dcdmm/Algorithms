{
 "cells": [
  {
   "cell_type": "markdown",
   "metadata": {
    "pycharm": {
     "name": "#%% md\n"
    }
   },
   "source": [
    "&emsp;&emsp;一组相关变量能够一个接一个地储存在计算机存储器的一块连续区域内.我们将这样的表示法称为数组(array).\n",
    "举一个实际的例子,一个文本字符串是以一串有序字符的形式存储的.在Python中,每个字符都用Unicode字符集表示,\n",
    "对于大多数计算机系统,Python内部用16位表示每个Unicode字符(即2个字节).因此,一个6个字符的字符串,比如'SAMPLE',将会\n",
    "被存储在存储器的连续12个字节中,如下图所示:\n",
    "\n",
    "<img src='../Other/img/array存储.png'>\n",
    "\n",
    "&emsp;&emsp;虽然该字符串需要12个字节的储存空间,但我们仍把它描述为6个字符数组.我们会将数组中的每个位置称为单元,并用\n",
    "整数索引值描述该数组,其中单元的开始编号为0,1,2等.例如,在上图中,索引为4的数组单元的内容为L,并且储存在储存器的2154和2155字节中.\n",
    "\n",
    "&emsp;&emsp;数组的每个单元必须占据相同数量的字节.之所有这样要求,是为了允许使用索引值就能在常量时间内访问数组内的任一单元.\n",
    "尤其是,假如知道某一数组的起始位置(例如,在上图中,起始位置为2146),每个数组所占的字节数(例如,每个Unicode字符占2个字节),\n",
    "和所要求的字符的索引值,通过计算start + cellsize*index便可得出其正确的内存地址\n",
    "\n",
    "&emsp;&emsp;Python represents a list or tuple instance using an internal storage\n",
    "mechanism of an array of object references. At the lowest level, what is stored\n",
    "is a consecutive sequence of memory addresses at which the elements of the sequence\n",
    "reside. A high-level diagram of such a list is shown in Figure 5.4\n",
    "\n",
    "<img src='../Other/img/array储存对象引用.png'>\n",
    "\n",
    "&emsp;&emsp;Although the relative size of the individual elements may vary, the number of\n",
    "bits used to store the memory address of each element is fixed (e.g., 64-bits per\n",
    "address). In this way, Python can support constant-time access to a list or tuple\n",
    "element based on its index.\n",
    "\n",
    "\n",
    "***\n",
    "Asymptotic performance of the nonmutating behaviors of the list and\n",
    "tuple classes. Identifiers data, data1, and data2 designate instances of the list or\n",
    "tuple class, and $ n $ , $ n_1$ , and $n_2$ their respective lengths. For the containment check\n",
    "and index method, $k$ represents the index of the leftmost occurrence (with $k = n$ if\n",
    "there is no occurrence). For comparisons between two sequences, we let $ k $ denote\n",
    "the leftmost index at which they disagree or else $ k = \\min(n_1,n_2) $.\n",
    "\n",
    "\n",
    "| 操作                                            | 运行时间          |\n",
    "| ----------------------------------------------- | ----------------- |\n",
    "| len(data)                                       | $ O(1)$              |\n",
    "| data[j]                                         | $ O(1) $             |\n",
    "| data.count[value]                               | $ O(n)$              |\n",
    "| data.index[value]                               | $ O(k+1)$            |\n",
    "| value in data                                   |  <div style=\"width: 150px\">  $ O(k+1) $           |\n",
    "| data1 == data[2]<br />(similarlay !=,<,>,<=,>=) | $O(K+1) $            |\n",
    "| data[j:k]                                       | $ O(k-j+1)$          |\n",
    "| data1 + data[2]                                 | $ O(n_1) + O(n_2)  $ |\n",
    "| c*data                                          | $ O(cn) $            |\n",
    "\n",
    "***\n",
    "\n",
    "Asymptotic performance of the mutating behaviors of the list class. Identifiers\n",
    "data, data1, and data2 designate instances of the list class, and $n$, $n_1$, and $n_2$\n",
    "their respective lengths.\n",
    "\n",
    "| 操作                         | 运行时间      |\n",
    "| ---------------------------- | ------------- |\n",
    "| data[j]=val                  | $ O(1) $      |\n",
    "| data.append(value)           | $O(1)$        |\n",
    "| data.insert(k, value)      | <div style=\"width: 150px\">  $ O( n-k+1)$  |\n",
    "| data.pop()                   | $O(1)$        |\n",
    "| data.pop(k)<br />del data[k] | $O(n-k)$        |\n",
    "| data.remove(value)           | $O(n)$        |\n",
    "| data1.extand(data2)          | $O(n_2)$      |\n",
    "| data.reverse()               | $ O(n)$       |\n",
    "| data.sort()                  | $O(n \\log n)$ |"
   ]
  }
 ],
 "metadata": {
  "kernelspec": {
   "display_name": "Python 3",
   "language": "python",
   "name": "python3"
  },
  "language_info": {
   "codemirror_mode": {
    "name": "ipython",
    "version": 3
   },
   "file_extension": ".py",
   "mimetype": "text/x-python",
   "name": "python",
   "nbconvert_exporter": "python",
   "pygments_lexer": "ipython3",
   "version": "3.8.5"
  },
  "toc": {
   "base_numbering": 1,
   "nav_menu": {},
   "number_sections": true,
   "sideBar": true,
   "skip_h1_title": false,
   "title_cell": "Table of Contents",
   "title_sidebar": "Contents",
   "toc_cell": false,
   "toc_position": {},
   "toc_section_display": true,
   "toc_window_display": false
  }
 },
 "nbformat": 4,
 "nbformat_minor": 1
}
