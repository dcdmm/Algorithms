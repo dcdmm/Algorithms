{
 "cells": [
  {
   "cell_type": "markdown",
   "metadata": {
    "collapsed": true
   },
   "source": [
    "<img src='../../../img/grey.JPG'>"
   ]
  },
  {
   "cell_type": "code",
   "execution_count": 9,
   "metadata": {},
   "outputs": [],
   "source": [
    "def moves_ins(n, forward):\n",
    "    if n == 0:\n",
    "        return None\n",
    "    moves_ins(n - 1, True)\n",
    "    print(\"enter \", n) if forward else print(\"exit  \", n)\n",
    "    moves_ins(n - 1, False)"
   ]
  },
  {
   "cell_type": "code",
   "execution_count": 10,
   "metadata": {},
   "outputs": [
    {
     "name": "stdout",
     "output_type": "stream",
     "text": [
      "enter  1\n",
      "enter  2\n",
      "exit   1\n",
      "enter  3\n",
      "enter  1\n",
      "exit   2\n",
      "exit   1\n",
      "enter  4\n",
      "enter  1\n",
      "enter  2\n",
      "exit   1\n",
      "exit   3\n",
      "enter  1\n",
      "exit   2\n",
      "exit   1\n"
     ]
    }
   ],
   "source": [
    "moves_ins(4, True)  # 开始肯定为True,即enter"
   ]
  },
  {
   "cell_type": "code",
   "execution_count": 10,
   "metadata": {},
   "outputs": [],
   "source": []
  }
 ],
 "metadata": {
  "kernelspec": {
   "display_name": "Python 3",
   "language": "python",
   "name": "python3"
  },
  "language_info": {
   "codemirror_mode": {
    "name": "ipython",
    "version": 3
   },
   "file_extension": ".py",
   "mimetype": "text/x-python",
   "name": "python",
   "nbconvert_exporter": "python",
   "pygments_lexer": "ipython3",
   "version": "3.8.5"
  }
 },
 "nbformat": 4,
 "nbformat_minor": 1
}