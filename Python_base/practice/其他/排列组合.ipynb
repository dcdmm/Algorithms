{
 "cells": [
  {
   "cell_type": "markdown",
   "metadata": {
    "pycharm": {
     "name": "#%% md\n"
    }
   },
   "source": [
    "<img src='../../../img/permutation.gif'>\n",
    "\n",
    "### 排列数:$ A^m_n $"
   ]
  },
  {
   "cell_type": "code",
   "execution_count": 1,
   "metadata": {
    "pycharm": {
     "name": "#%%\n"
    }
   },
   "outputs": [
    {
     "output_type": "stream",
     "name": "stdout",
     "text": [
      "ab\nac\nba\nbc\nca\ncb\n\n123\n124\n132\n134\n142\n143\n213\n214\n231\n234\n241\n243\n312\n314\n321\n324\n341\n342\n412\n413\n421\n423\n431\n432\n"
     ]
    }
   ],
   "source": [
    "def permSizeK(result, nums, k):\n",
    "    if k == 0:\n",
    "        print(result)\n",
    "    for i in range(len(nums)):\n",
    "        permSizeK(result + str(nums[i]), nums[0:i] + nums[i + 1:], k - 1)\n",
    "\n",
    "\n",
    "lst1 = ['a', 'b', 'c']\n",
    "k1 = 2\n",
    "permSizeK('', lst1, k1)\n",
    "\n",
    "print()\n",
    "\n",
    "lst2 = [1, 2, 3, 4]\n",
    "k2 = 3\n",
    "permSizeK('', lst2, k2)"
   ]
  },
  {
   "cell_type": "markdown",
   "source": [
    "### 组合数$ C_n^m $"
   ],
   "metadata": {
    "collapsed": false,
    "pycharm": {
     "name": "#%% md\n"
    }
   }
  },
  {
   "cell_type": "code",
   "execution_count": 5,
   "metadata": {
    "pycharm": {
     "name": "#%%\n"
    }
   },
   "outputs": [
    {
     "name": "stdout",
     "output_type": "stream",
     "text": [
      "123\n",
      "124\n",
      "125\n",
      "134\n",
      "135\n",
      "145\n",
      "234\n",
      "235\n",
      "245\n",
      "345\n"
     ]
    }
   ],
   "source": [
    "def combinSizeK(result, nums, k):\n",
    "    if k == 0:\n",
    "        print(result)\n",
    "    for i in range(len(nums)):\n",
    "        combinSizeK(result + str(nums[i]), nums[i + 1:], k - 1)\n",
    "\n",
    "\n",
    "lst3 = [1, 2, 3, 4, 5]\n",
    "k3 = 3\n",
    "combinSizeK('', lst3, k3)\n",
    "\n"
   ]
  }
 ],
 "metadata": {
  "kernelspec": {
   "display_name": "Python 3",
   "language": "python",
   "name": "python3"
  },
  "language_info": {
   "codemirror_mode": {
    "name": "ipython",
    "version": 3
   },
   "file_extension": ".py",
   "mimetype": "text/x-python",
   "name": "python",
   "nbconvert_exporter": "python",
   "pygments_lexer": "ipython3",
   "version": "3.8.5-final"
  },
  "toc": {
   "base_numbering": 1,
   "nav_menu": {},
   "number_sections": true,
   "sideBar": true,
   "skip_h1_title": false,
   "title_cell": "Table of Contents",
   "title_sidebar": "Contents",
   "toc_cell": false,
   "toc_position": {},
   "toc_section_display": true,
   "toc_window_display": false
  }
 },
 "nbformat": 4,
 "nbformat_minor": 1
}