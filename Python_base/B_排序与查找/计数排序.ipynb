{
 "cells": [
  {
   "cell_type": "markdown",
   "metadata": {
    "collapsed": true,
    "pycharm": {
     "name": "#%% md\n"
    }
   },
   "source": [
    "<img src=\"../Other/img/计数排序.gif\">\n",
    "\n",
    "计数排序:\n",
    "* 不稳定(不能保证相同数字原有顺序)\n",
    "* 时间复杂度:O(n+k),k是整数的范围\n",
    "* 空间复杂度O(k)"
   ]
  },
  {
   "cell_type": "code",
   "execution_count": 48,
   "metadata": {
    "pycharm": {
     "name": "#%%\n"
    }
   },
   "outputs": [],
   "source": [
    "def count_sort(lst):\n",
    "    mmax, mmin = lst[0], lst[0]\n",
    "    for i in range(1, len(lst)):\n",
    "        \"\"\"找到最大最小值\"\"\"\n",
    "        if lst[i] > mmax:\n",
    "            mmax = lst[i]\n",
    "        elif lst[i] < mmin:\n",
    "            mmin = lst[i]\n",
    "\n",
    "    nums = mmax - mmin + 1\n",
    "    counts = [0] * nums  # 计数列表\n",
    "    for i in range(len(lst)):\n",
    "        counts[lst[i] - mmin] = counts[lst[i] - mmin] + 1  # 该计数列表处元素数量+1\n",
    "\n",
    "    pos = 0\n",
    "    # 根据计数列表取出对应元素\n",
    "    for i in range(mmin, mmax + 1):\n",
    "        for j in range(counts[i - mmin]):\n",
    "            lst[pos] = i\n",
    "            pos += 1\n",
    "    return lst"
   ]
  },
  {
   "cell_type": "code",
   "execution_count": 49,
   "metadata": {
    "pycharm": {
     "name": "#%%\n"
    }
   },
   "outputs": [
    {
     "data": {
      "text/plain": [
       "[-1, 0, 2, 2, 3, 3, 5, 6, 8, 9, 10, 11, 11]"
      ]
     },
     "execution_count": 49,
     "metadata": {},
     "output_type": "execute_result"
    }
   ],
   "source": [
    "array = [5, 2, 8, 3, 9, 0, -1, 3, 6, 11, 10, 11, 2]\n",
    "count_sort(array)"
   ]
  },
  {
   "cell_type": "code",
   "execution_count": null,
   "metadata": {},
   "outputs": [],
   "source": []
  }
 ],
 "metadata": {
  "kernelspec": {
   "display_name": "Python 3",
   "language": "python",
   "name": "python3"
  },
  "language_info": {
   "codemirror_mode": {
    "name": "ipython",
    "version": 3
   },
   "file_extension": ".py",
   "mimetype": "text/x-python",
   "name": "python",
   "nbconvert_exporter": "python",
   "pygments_lexer": "ipython3",
   "version": "3.7.9"
  },
  "toc": {
   "base_numbering": 1,
   "nav_menu": {},
   "number_sections": true,
   "sideBar": true,
   "skip_h1_title": false,
   "title_cell": "Table of Contents",
   "title_sidebar": "Contents",
   "toc_cell": false,
   "toc_position": {},
   "toc_section_display": true,
   "toc_window_display": false
  }
 },
 "nbformat": 4,
 "nbformat_minor": 1
}
