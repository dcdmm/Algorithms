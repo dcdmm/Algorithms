{
 "cells": [
  {
   "cell_type": "code",
   "execution_count": 19,
   "metadata": {},
   "outputs": [
    {
     "data": {
      "text/plain": [
       "('l', 3)"
      ]
     },
     "execution_count": 19,
     "metadata": {},
     "output_type": "execute_result"
    }
   ],
   "source": [
    "def LetterCount(s):\n",
    "    \"\"\"字母频率统计,并输出出现频率最高的字母及其次数\"\"\"\n",
    "    freq = {}\n",
    "    for i in s:\n",
    "        letter = i if i.isalpha() else ''\n",
    "        if letter:\n",
    "            freq[letter] = freq.get(letter, 0) + 1\n",
    "    \n",
    "    max_letter = ''\n",
    "    max_count = 0\n",
    "    for (w, c) in freq.items():\n",
    "        if c > max_count:\n",
    "            max_count = c\n",
    "            max_letter = w\n",
    "\n",
    "    return max_letter, max_count\n",
    "\n",
    "LetterCount(\"hello world c++ python rust java\")"
   ]
  },
  {
   "cell_type": "code",
   "execution_count": 20,
   "metadata": {},
   "outputs": [
    {
     "data": {
      "text/plain": [
       "('l', 3)"
      ]
     },
     "execution_count": 20,
     "metadata": {},
     "output_type": "execute_result"
    }
   ],
   "source": [
    "from collections import Counter\n",
    "\n",
    "def LetterCount2(s):\n",
    "    \"\"\"字母频率统计,并输出出现频率最高的字母及其次数(通过python collections库Counter类实现)\"\"\"\n",
    "    freq = Counter([i for i in s if i.isalpha()])\n",
    "    max_letter_count = freq.most_common(1)\n",
    "    return max_letter_count[0]\n",
    "\n",
    "LetterCount2(\"hello world c++ python rust java\")"
   ]
  }
 ],
 "metadata": {
  "kernelspec": {
   "display_name": "pytorch_env",
   "language": "python",
   "name": "python3"
  },
  "language_info": {
   "codemirror_mode": {
    "name": "ipython",
    "version": 3
   },
   "file_extension": ".py",
   "mimetype": "text/x-python",
   "name": "python",
   "nbconvert_exporter": "python",
   "pygments_lexer": "ipython3",
   "version": "3.10.12"
  }
 },
 "nbformat": 4,
 "nbformat_minor": 2
}
