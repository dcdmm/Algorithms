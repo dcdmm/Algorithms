{
 "cells": [
  {
   "cell_type": "markdown",
   "metadata": {},
   "source": [
    "<img src='../../img/二叉树的层序遍历.jpg'>\n",
    "\n",
    "输入：root = [3,9,20,null,null,15,7]\n",
    "\n",
    "输出：[[3],[9,20],[15,7]]"
   ]
  },
  {
   "cell_type": "code",
   "execution_count": 4,
   "metadata": {},
   "outputs": [],
   "source": [
    "class TreeNode:\n",
    "    def __init__(self, val=0, left=None, right=None):\n",
    "        self.val = val\n",
    "        self.left = left\n",
    "        self.right = right\n",
    "\n",
    "\n",
    "def binary_tree_by_list(data):\n",
    "    \"\"\"从列表创建二叉树\"\"\"\n",
    "    root = TreeNode(data[0])\n",
    "    root_list = [root]\n",
    "    i = 1\n",
    "    while i < len(data):\n",
    "        current = root_list.pop(0)\n",
    "        if data[i] is not None:\n",
    "            current.left = TreeNode(data[i])\n",
    "            root_list.append(current.left)\n",
    "\n",
    "        i += 1\n",
    "\n",
    "        if i < len(data) and data[i] is not None:\n",
    "            current.right = TreeNode(data[i])\n",
    "            root_list.append(current.right)\n",
    "        i += 1\n",
    "    return root\n",
    "\n",
    "\n",
    "tree0 = binary_tree_by_list([3, 9, 20, None, None, 15, 7])"
   ]
  },
  {
   "cell_type": "code",
   "execution_count": 5,
   "metadata": {},
   "outputs": [
    {
     "name": "stdout",
     "output_type": "stream",
     "text": [
      "[[3], [9, 20], [15, 7]]\n"
     ]
    }
   ],
   "source": [
    "def levelOrder(root):\n",
    "    \"\"\"二叉树的层序遍历\"\"\"\n",
    "    if not root:\n",
    "        return []\n",
    "    queue = [root]\n",
    "    res = []\n",
    "    while queue:\n",
    "        res.append([node.val for node in queue])\n",
    "\n",
    "        ll = []\n",
    "        for node in queue:\n",
    "            if node.left:\n",
    "                ll.append(node.left)\n",
    "            if node.right:\n",
    "                ll.append(node.right)\n",
    "\n",
    "        # queue更新为下一层的节点,然后继续遍历下一层\n",
    "        queue = ll\n",
    "    return res\n",
    "\n",
    "lo = levelOrder(tree0)\n",
    "print(lo)"
   ]
  }
 ],
 "metadata": {
  "kernelspec": {
   "display_name": "pytorch_env",
   "language": "python",
   "name": "python3"
  },
  "language_info": {
   "codemirror_mode": {
    "name": "ipython",
    "version": 3
   },
   "file_extension": ".py",
   "mimetype": "text/x-python",
   "name": "python",
   "nbconvert_exporter": "python",
   "pygments_lexer": "ipython3",
   "version": "3.10.12"
  }
 },
 "nbformat": 4,
 "nbformat_minor": 2
}
