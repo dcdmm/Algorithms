{
 "cells": [
  {
   "cell_type": "markdown",
   "id": "initial_id",
   "metadata": {
    "collapsed": true
   },
   "source": [
    "#### 示例1\n",
    "\n",
    "输入: root = [3,9,20,null,null,15,7]\n",
    "\n",
    "输出: true\n",
    "\n",
    "解释: 如下图\n",
    "\n",
    "<img src='../../img/是否为平衡二叉树_0.jpg'>\n",
    "\n",
    "#### 示例2\n",
    "\n",
    "输入：root = [1,2,2,3,3,null,null,4,4]\n",
    "\n",
    "输出：false\n",
    "\n",
    "解释：如下图\n",
    "\n",
    "<img src='../../img/是否为平衡二叉树_1.jpg'>\n"
   ]
  },
  {
   "cell_type": "code",
   "execution_count": 4,
   "id": "55784769",
   "metadata": {},
   "outputs": [],
   "source": [
    "from utity import binary_tree_by_list\n",
    "\n",
    "list0 = [3, 9, 20, None, None, 15, 7]\n",
    "list1 = [1, 2, 2, 3, 3, None, None, 4, 4] \n",
    "tree0 = binary_tree_by_list(list0)\n",
    "tree1 = binary_tree_by_list(list1)"
   ]
  },
  {
   "cell_type": "code",
   "execution_count": 5,
   "id": "363dccba",
   "metadata": {},
   "outputs": [
    {
     "data": {
      "text/plain": [
       "4"
      ]
     },
     "execution_count": 5,
     "metadata": {},
     "output_type": "execute_result"
    }
   ],
   "source": [
    "def depth(root):\n",
    "    \"\"\"计算树的深度\"\"\"\n",
    "    if not root:\n",
    "        return 0\n",
    "    return max(depth(root.left), depth(root.right)) + 1\n",
    "\n",
    "depth(tree1)"
   ]
  },
  {
   "cell_type": "code",
   "execution_count": 6,
   "id": "9328435c",
   "metadata": {},
   "outputs": [
    {
     "name": "stdout",
     "output_type": "stream",
     "text": [
      "True\n",
      "False\n"
     ]
    }
   ],
   "source": [
    "def isBalanced(root):\n",
    "    if not root:\n",
    "        return True  # 终止条件(root为None时表示越过叶子节点)\n",
    "    # abs(depth(root.left) - depth(root.right)) <= 1: 判断当前子树是否为平衡树\n",
    "    # isBalanced(root.left) : 判断当前子树左子树是否为平衡树\n",
    "    # isBalanced(root.right) : 判断当前子树右子树是否为平衡树\n",
    "    return abs(depth(root.left) - depth(root.right)) <= 1 and isBalanced(root.left) and isBalanced(root.right)\n",
    "\n",
    "\n",
    "print(isBalanced(tree0))\n",
    "print(isBalanced(tree1))"
   ]
  }
 ],
 "metadata": {
  "kernelspec": {
   "display_name": "Python 3",
   "language": "python",
   "name": "python3"
  },
  "language_info": {
   "codemirror_mode": {
    "name": "ipython",
    "version": 3
   },
   "file_extension": ".py",
   "mimetype": "text/x-python",
   "name": "python",
   "nbconvert_exporter": "python",
   "pygments_lexer": "ipython3",
   "version": "3.10.12"
  }
 },
 "nbformat": 4,
 "nbformat_minor": 5
}
