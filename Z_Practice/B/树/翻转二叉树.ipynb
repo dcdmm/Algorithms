{
 "cells": [
  {
   "cell_type": "markdown",
   "metadata": {},
   "source": [
    "<img src='../../img/翻转二叉树.jpg'>\n",
    "\n",
    "输入：root = [4,2,7,1,3,6,9]\n",
    "\n",
    "输出：[4,7,2,9,6,3,1]\n"
   ]
  },
  {
   "cell_type": "code",
   "execution_count": 1,
   "metadata": {},
   "outputs": [],
   "source": [
    "from utity import binary_tree_by_list, TreeNode\n",
    "\n",
    "tree0 = binary_tree_by_list([4, 2, 7, 1, 3, 6, 9])"
   ]
  },
  {
   "cell_type": "code",
   "execution_count": 2,
   "metadata": {},
   "outputs": [
    {
     "name": "stdout",
     "output_type": "stream",
     "text": [
      "7\n",
      "2\n",
      "9\n",
      "6\n"
     ]
    }
   ],
   "source": [
    "def invertTree(root: TreeNode) -> TreeNode:\n",
    "    \"\"\"翻转二叉树(从上至下)\"\"\"\n",
    "    # 递归终止条件\n",
    "    if root == None:\n",
    "        return None\n",
    "    \n",
    "    # 将当前节点的左右子树交换\n",
    "    root.left, root.right = root.right, root.left\n",
    "    \n",
    "    # 递归左子树\n",
    "    invertTree(root.left)\n",
    "    # 递归右子树\n",
    "    invertTree(root.right)\n",
    "    return root\n",
    "\n",
    "tree0_invert = invertTree(tree0)\n",
    "\n",
    "print(tree0_invert.left.val)  # print->7\n",
    "print(tree0_invert.right.val)  # print->2\n",
    "\n",
    "print(tree0_invert.left.left.val)  # print->9\n",
    "print(tree0_invert.left.right.val)  # print->6"
   ]
  }
 ],
 "metadata": {
  "kernelspec": {
   "display_name": "pytorch_env",
   "language": "python",
   "name": "python3"
  },
  "language_info": {
   "codemirror_mode": {
    "name": "ipython",
    "version": 3
   },
   "file_extension": ".py",
   "mimetype": "text/x-python",
   "name": "python",
   "nbconvert_exporter": "python",
   "pygments_lexer": "ipython3",
   "version": "3.10.12"
  }
 },
 "nbformat": 4,
 "nbformat_minor": 2
}
