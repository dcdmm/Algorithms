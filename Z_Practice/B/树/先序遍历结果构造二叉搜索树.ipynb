{
 "cells": [
  {
   "cell_type": "markdown",
   "id": "initial_id",
   "metadata": {
    "collapsed": true
   },
   "source": [
    "<img src='../../img/前序遍历构造二叉搜索树.jpg' style=\"zoom:40%\">\n",
    "\n",
    "输入：preorder = [8,5,1,7,10,12]\n",
    "\n",
    "输出：[8,5,10,1,7,null,12]"
   ]
  },
  {
   "cell_type": "code",
   "execution_count": 1,
   "id": "1153bf63",
   "metadata": {},
   "outputs": [],
   "source": [
    "from typing import List\n",
    "\n",
    "from utity import TreeNode\n",
    "\n",
    "def bstFromPreorder(preorder: List[int]) -> TreeNode:\n",
    "    \"\"\"先序遍历结果(list)构造二叉搜索树\"\"\"\n",
    "    if preorder:\n",
    "        p = [[], []]\n",
    "        root = TreeNode(preorder.pop(0))  # 使用先序遍历第一个节点作为根节点\n",
    "        [p[val > root.val].append(val) for val in preorder]  # 小于root.val的值进入p[0],大于root.val的值进入p[1]\n",
    "        root.left = bstFromPreorder(p[0])\n",
    "        root.right = bstFromPreorder(p[1])\n",
    "        return root"
   ]
  },
  {
   "cell_type": "code",
   "execution_count": 2,
   "id": "17383a84",
   "metadata": {},
   "outputs": [
    {
     "name": "stdout",
     "output_type": "stream",
     "text": [
      "5\n",
      "10\n",
      "1\n",
      "7\n"
     ]
    }
   ],
   "source": [
    "lst = [8, 5, 1, 7, 10, 12]\n",
    "result = bstFromPreorder(lst)\n",
    "\n",
    "print(result.left.val)\n",
    "print(result.right.val)\n",
    "print(result.left.left.val)\n",
    "print(result.left.right.val)"
   ]
  }
 ],
 "metadata": {
  "kernelspec": {
   "display_name": "Python 3",
   "language": "python",
   "name": "python3"
  },
  "language_info": {
   "codemirror_mode": {
    "name": "ipython",
    "version": 3
   },
   "file_extension": ".py",
   "mimetype": "text/x-python",
   "name": "python",
   "nbconvert_exporter": "python",
   "pygments_lexer": "ipython3",
   "version": "3.10.12"
  }
 },
 "nbformat": 4,
 "nbformat_minor": 5
}
