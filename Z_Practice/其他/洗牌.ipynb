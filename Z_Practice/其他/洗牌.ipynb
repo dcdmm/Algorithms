{
 "cells": [
  {
   "cell_type": "markdown",
   "metadata": {
    "collapsed": false,
    "pycharm": {
     "name": "#%% md\n"
    }
   },
   "source": [
    "### 问题描述\n",
    "\n",
    "洗牌后的每个元素随机出现在每个位置,且<font color='red'>概率相同</font>"
   ]
  },
  {
   "cell_type": "code",
   "execution_count": 1,
   "metadata": {
    "collapsed": false,
    "pycharm": {
     "name": "#%%\n"
    }
   },
   "outputs": [],
   "source": [
    "import random\n",
    "import numpy as np"
   ]
  },
  {
   "cell_type": "code",
   "execution_count": 2,
   "metadata": {
    "collapsed": false,
    "pycharm": {
     "name": "#%%\n"
    }
   },
   "outputs": [],
   "source": [
    "def test_shuffle(func, numbers=10, count=10000):\n",
    "    \"\"\"\n",
    "    洗牌测试\n",
    "    :param func: 洗牌函数\n",
    "    :param numbers: 牌元素的个数\n",
    "    :param count: 洗牌的次数\n",
    "    :return:\n",
    "    \"\"\"\n",
    "    result = np.zeros((numbers, numbers))\n",
    "\n",
    "    for _ in range(count):\n",
    "        A = [i for i in range(0, numbers)]\n",
    "        func(A)\n",
    "        for j in range(numbers):\n",
    "            result[A[j]][j] += 1  # j号牌被洗到A[j]号牌的次数+1\n",
    "    print(np.array(result))"
   ]
  },
  {
   "cell_type": "code",
   "execution_count": 3,
   "metadata": {
    "collapsed": false,
    "pycharm": {
     "name": "#%%\n"
    }
   },
   "outputs": [],
   "source": [
    "def shuffle_system(cards):\n",
    "    random.shuffle(cards)"
   ]
  },
  {
   "cell_type": "markdown",
   "metadata": {
    "collapsed": false,
    "pycharm": {
     "name": "#%% md\n"
    }
   },
   "source": [
    "* i=0时,任何牌(n张)洗到第0号牌的概率为$1/n$\n",
    "* i=1时,任何牌(n张)洗到第1号牌的概率也为$1/n$\n",
    "    * 0号牌: $ \\frac{n-1}{n} * \\frac{1}{n-1} = \\frac{1}{n} $\n",
    "    * 其他号牌: $ \\frac{n-1}{n} * \\frac{1}{n-1} = \\frac{1}{n} $\n",
    "\n",
    "* ......\n",
    "\n",
    "故概率都为$\\frac{1}{n}$"
   ]
  },
  {
   "cell_type": "code",
   "execution_count": 4,
   "metadata": {
    "collapsed": false,
    "pycharm": {
     "name": "#%%\n"
    }
   },
   "outputs": [],
   "source": [
    "def shuffle_correct(cards):\n",
    "    for i in range(len(cards)):\n",
    "        randomi = random.randint(i, (len(cards) - 1))\n",
    "        cards[i], cards[randomi] = cards[randomi], cards[i]"
   ]
  },
  {
   "cell_type": "code",
   "execution_count": 5,
   "metadata": {
    "collapsed": false,
    "pycharm": {
     "name": "#%%\n"
    }
   },
   "outputs": [
    {
     "name": "stdout",
     "output_type": "stream",
     "text": [
      "[[ 960. 1015.  951. 1055.  979. 1029. 1017. 1001. 1019.  974.]\n",
      " [ 988. 1061. 1028.  996.  956.  998.  986. 1009. 1028.  950.]\n",
      " [1046.  957.  987.  985.  968.  974. 1007. 1069.  952. 1055.]\n",
      " [ 972. 1004.  956.  999. 1053. 1017. 1002.  987.  981. 1029.]\n",
      " [ 985. 1007. 1052. 1032.  990.  975.  975. 1001.  993.  990.]\n",
      " [ 990. 1018. 1014.  974.  998.  995.  985. 1023.  983. 1020.]\n",
      " [1007. 1017. 1062.  930. 1045.  933. 1003.  981.  994. 1028.]\n",
      " [1041. 1018. 1019.  995.  994.  991. 1008. 1005.  948.  981.]\n",
      " [1008.  942.  987. 1006.  993. 1040. 1031.  978. 1080.  935.]\n",
      " [1003.  961.  944. 1028. 1024. 1048.  986.  946. 1022. 1038.]]\n"
     ]
    }
   ],
   "source": [
    "test_shuffle(shuffle_system, 10)  # 概率基本相同"
   ]
  },
  {
   "cell_type": "code",
   "execution_count": 6,
   "metadata": {
    "collapsed": false,
    "pycharm": {
     "name": "#%%\n"
    }
   },
   "outputs": [
    {
     "name": "stdout",
     "output_type": "stream",
     "text": [
      "[[ 962. 1086.  986.  971.  977. 1007.  993.  967. 1056.  995.]\n",
      " [1024.  979.  967.  995.  999.  997.  968. 1030. 1039. 1002.]\n",
      " [ 987.  970.  993.  987. 1015. 1011. 1026.  983. 1006. 1022.]\n",
      " [1049.  987.  974. 1018. 1044.  996.  935. 1051.  959.  987.]\n",
      " [1001.  988. 1014. 1021.  951.  941. 1041. 1068.  970. 1005.]\n",
      " [ 992. 1023. 1043.  983. 1027. 1001. 1019.  940.  982.  990.]\n",
      " [1054. 1030.  982.  994. 1024.  999.  969.  970.  998.  980.]\n",
      " [1015.  907. 1001. 1001.  975. 1070. 1000. 1011.  980. 1040.]\n",
      " [ 987. 1020. 1031. 1015.  977.  986. 1044.  976.  987.  977.]\n",
      " [ 929. 1010. 1009. 1015. 1011.  992. 1005. 1004. 1023. 1002.]]\n"
     ]
    }
   ],
   "source": [
    "test_shuffle(shuffle_correct, 10)  # 概率基本相同"
   ]
  }
 ],
 "metadata": {
  "kernelspec": {
   "display_name": "Python 3",
   "language": "python",
   "name": "python3"
  },
  "language_info": {
   "codemirror_mode": {
    "name": "ipython",
    "version": 3
   },
   "file_extension": ".py",
   "mimetype": "text/x-python",
   "name": "python",
   "nbconvert_exporter": "python",
   "pygments_lexer": "ipython3",
   "version": "3.10.12"
  }
 },
 "nbformat": 4,
 "nbformat_minor": 0
}
