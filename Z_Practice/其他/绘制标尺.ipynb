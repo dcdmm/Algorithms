{
 "cells": [
  {
   "cell_type": "markdown",
   "metadata": {
    "collapsed": true,
    "pycharm": {
     "name": "#%% md\n"
    }
   },
   "source": [
    "<img src='../img/绘制标尺.jpg'>"
   ]
  },
  {
   "cell_type": "code",
   "execution_count": null,
   "metadata": {
    "collapsed": false,
    "pycharm": {
     "name": "#%%\n"
    }
   },
   "outputs": [],
   "source": [
    "def draw_line(tick_length, tick_label=''):\n",
    "    line = '-' * tick_length\n",
    "    if tick_label:\n",
    "        line += ' ' + tick_label\n",
    "    print(line)\n",
    "\n",
    "\n",
    "def draw_interval(center_length):\n",
    "    if center_length > 0:  # stop when length drops to 0\n",
    "        draw_interval(center_length - 1)  # recursively draw top ticks\n",
    "        draw_line(center_length)  # draw center tick\n",
    "        draw_interval(center_length - 1)  # recursively draw bottom ticks\n",
    "\n",
    "\n",
    "def draw_ruler(num_inches, major_length):\n",
    "    draw_line(major_length, '0')  # draw inch 0 line\n",
    "    for j in range(1, 1 + num_inches):\n",
    "        draw_interval(major_length - 1)  # draw interior ticks for inch\n",
    "        draw_line(major_length, str(j))  # draw inch j line and label"
   ]
  },
  {
   "cell_type": "code",
   "execution_count": 27,
   "metadata": {
    "collapsed": false,
    "pycharm": {
     "name": "#%%\n"
    }
   },
   "outputs": [
    {
     "name": "stdout",
     "output_type": "stream",
     "text": [
      "-\n",
      "--\n",
      "-\n",
      "---\n",
      "-\n",
      "--\n",
      "-\n"
     ]
    }
   ],
   "source": [
    "draw_interval(3)"
   ]
  },
  {
   "cell_type": "code",
   "execution_count": 28,
   "metadata": {
    "collapsed": false,
    "pycharm": {
     "name": "#%%\n"
    }
   },
   "outputs": [
    {
     "name": "stdout",
     "output_type": "stream",
     "text": [
      "---- 0\n",
      "-\n",
      "--\n",
      "-\n",
      "---\n",
      "-\n",
      "--\n",
      "-\n",
      "---- 1\n",
      "-\n",
      "--\n",
      "-\n",
      "---\n",
      "-\n",
      "--\n",
      "-\n",
      "---- 2\n",
      "-\n",
      "--\n",
      "-\n",
      "---\n",
      "-\n",
      "--\n",
      "-\n",
      "---- 3\n"
     ]
    }
   ],
   "source": [
    "draw_ruler(3, 4)"
   ]
  }
 ],
 "metadata": {
  "kernelspec": {
   "display_name": "Python 3",
   "language": "python",
   "name": "python3"
  },
  "language_info": {
   "codemirror_mode": {
    "name": "ipython",
    "version": 2
   },
   "file_extension": ".py",
   "mimetype": "text/x-python",
   "name": "python",
   "nbconvert_exporter": "python",
   "pygments_lexer": "ipython2",
   "version": "2.7.6"
  }
 },
 "nbformat": 4,
 "nbformat_minor": 0
}
