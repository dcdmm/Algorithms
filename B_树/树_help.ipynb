{
 "cells": [
  {
   "cell_type": "markdown",
   "source": [
    "#### 深度\n",
    "\n",
    "假设$p$ 是树$T$中的一个节点,那么$p$的深度就是节点$p$的祖先的个数,不包含$p$本身.树的跟节点的深度为0\n",
    "* 如果p是根节点,那么p的深度为0\n",
    "* 否则,p的深度就是其父节点的深度+1\n",
    "\n",
    "#### 高度\n",
    "* 如果p是一个叶子节点,那么它的高度为0\n",
    "* 否则,p的高度就是它孩子节点中的最大高度+1\n",
    "\n",
    "\n",
    "## 二叉树(binary trees)\n",
    "\n",
    "A binary tree is an ordered tree with the following properties:\n",
    "1. Every node has at most two children.\n",
    "2. Each child node is labeled as being either a left child or a right child.\n",
    "3. A left child precedes a right child in the order of children of a node.\n",
    "\n",
    "\n",
    "### 二叉树的链式存储结构\n",
    "\n",
    "A natural way to realize a binary tree T is to use a linked structure, with a node(see Figure 8.11a) that maintains references to the element stored at a position p and to the nodes associated with the children and parent of p. If p is the root of T, then the parent field of p is None. Likewise, if p does not have a left child (respectively, right child), the associated field is None. The tree itself maintains an instance variable storing a reference to the root node (if any), and a variable, called size, that represents the overall number of nodes of T. We show such a linked structure representation of a binary tree in Figure 8.11b.\n",
    "\n",
    "<img src='img/链式存储结构.jpg' style=\"zoom:40%\">\n",
    "\n",
    "\n",
    "## 树的遍历算法\n",
    "\n",
    "### 先序遍历\n",
    "\n",
    "In a preorder traversal of a tree T, the root of T is visited first and then the subtrees rooted at its children are traversed recursively.\n",
    "\n",
    "***\n",
    "\n",
    "**Algorithm** preorder(T, P):\n",
    "&emsp;perform the \"visit\" action for posiont p\n",
    "&emsp;**for** each child c in T.children(p) **do**\n",
    "&emsp;&emsp;preorder(T, c)      {recursively traverse the subtree rooted at c}\n",
    "\n",
    "\n",
    "***\n",
    "\n",
    "<img src='img/先序遍历.jpg' style=\"zoom:40%\">\n",
    "\n",
    "### 后序遍历\n",
    "\n",
    "In some sense, this algorithm can be viewed as the opposite of the preorder traversal, because it recursively traverses the subtrees rooted at the children of the root first, and then visits the root (hence, the name “postorder”).\n",
    "\n",
    "*** \n",
    "\n",
    "**Algorithm** postorder(T, P):\n",
    "&emsp;**for** each child c in T.children(p) **do**\n",
    "&emsp;&emsp;postorder(T, c)      {recursively traverse the subtree rooted at c}\n",
    "&emsp;perform the \"visit\" action for position p\n",
    "\n",
    "***\n",
    "\n",
    "<img src='img/后序遍历.jpg' style=\"zoom:40%\">"
   ],
   "metadata": {
    "collapsed": false
   },
   "id": "af82dd32f17b8f21"
  },
  {
   "cell_type": "code",
   "execution_count": null,
   "outputs": [],
   "source": [],
   "metadata": {
    "collapsed": false,
    "ExecuteTime": {
     "end_time": "2024-01-15T02:57:59.546821700Z",
     "start_time": "2024-01-15T02:57:59.525720700Z"
    }
   },
   "id": "1a438fcd838809c3"
  }
 ],
 "metadata": {
  "kernelspec": {
   "display_name": "Python 3",
   "language": "python",
   "name": "python3"
  },
  "language_info": {
   "codemirror_mode": {
    "name": "ipython",
    "version": 2
   },
   "file_extension": ".py",
   "mimetype": "text/x-python",
   "name": "python",
   "nbconvert_exporter": "python",
   "pygments_lexer": "ipython2",
   "version": "2.7.6"
  }
 },
 "nbformat": 4,
 "nbformat_minor": 5
}
