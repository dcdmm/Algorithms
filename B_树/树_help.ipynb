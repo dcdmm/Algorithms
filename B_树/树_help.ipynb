{
 "cells": [
  {
   "cell_type": "markdown",
   "source": [
    "#### 深度\n",
    "\n",
    "假设$p$ 是树$T$中的一个节点,那么$p$的深度就是节点$p$的祖先的个数,不包含$p$本身.树的跟节点的深度为0\n",
    "* 如果p是根节点,那么p的深度为0\n",
    "* 否则,p的深度就是其父节点的深度+1\n",
    "\n",
    "#### 高度\n",
    "* 如果p是一个叶子节点,那么它的高度为0\n",
    "* 否则,p的高度就是它孩子节点中的最大高度+1\n",
    "\n",
    "\n",
    "## 二叉树(binary trees)\n",
    "\n",
    "A binary tree is an ordered tree with the following properties:\n",
    "1. Every node has at most two children.\n",
    "2. Each child node is labeled as being either a left child or a right child.\n",
    "3. A left child precedes a right child in the order of children of a node."
   ],
   "metadata": {
    "collapsed": false
   },
   "id": "af82dd32f17b8f21"
  },
  {
   "cell_type": "code",
   "execution_count": null,
   "outputs": [],
   "source": [],
   "metadata": {
    "collapsed": false,
    "ExecuteTime": {
     "end_time": "2024-01-12T07:29:38.955955100Z",
     "start_time": "2024-01-12T07:29:38.942567300Z"
    }
   },
   "id": "50eeaa2e7c142dcd"
  },
  {
   "cell_type": "code",
   "execution_count": null,
   "outputs": [],
   "source": [],
   "metadata": {
    "collapsed": false
   },
   "id": "1a438fcd838809c3"
  }
 ],
 "metadata": {
  "kernelspec": {
   "display_name": "Python 3",
   "language": "python",
   "name": "python3"
  },
  "language_info": {
   "codemirror_mode": {
    "name": "ipython",
    "version": 2
   },
   "file_extension": ".py",
   "mimetype": "text/x-python",
   "name": "python",
   "nbconvert_exporter": "python",
   "pygments_lexer": "ipython2",
   "version": "2.7.6"
  }
 },
 "nbformat": 4,
 "nbformat_minor": 5
}
