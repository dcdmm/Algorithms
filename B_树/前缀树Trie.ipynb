{
 "cells": [
  {
   "cell_type": "markdown",
   "metadata": {},
   "source": [
    "前缀树,又称为字典树,它用一个树状的数据结构存储一个字典中的所有单词.如果一\n",
    "个字典中包含单词\"can\"、\"cat\"、\"come\"、\"do\"、\"i\"、\"in\"和\"inn\",那么保存该字典所有单词的前缀树如下图所示:\n",
    "\n",
    "<img src='img/trie.jpg' style=\"zoom:40%\">\n",
    "\n",
    "前缀树是一棵多叉树,一个节点可能有多个子节点.前缀树中除根节点外,每个节点表示字符串中的一个字符,而字符串由前缀树的路径表示.前缀树的根节点不表示任何字符.\n",
    "\n",
    "如果两个单词的前缀(即单词最开始的若干字符)相同,那么它们在前缀树中对应的路径的前面的节点是重叠的.例如,\"can\"和\"cat\"的前两个字符相同,它们在前缀树对应的两条路径中最开始的3个节点(根节点、字符'c'和字符'a'对应的节点)重叠,它们共同的前缀之后的字符对应的节点一定是在最后一个共同节点的子树中.例如,\"can\"和\"cat\"的共同前缀\"ca\"在前缀树中的最后一个节点是第3层的第1个节点,两个字符串共同的前缀之后的字符'n'和't'都在最后一个公共节点的子树之中.\n",
    "\n",
    "字符串在前缀树中的路径并不一定终止于叶节点.如果一个单词是另一个单词的前缀,那么较短的单词对应的路径是较长的单词对应的路径的一部分.例如,在上图中,字符串\"in\"对应的路径是字符串\"inn\"对应的路径的一部分.\n",
    "\n",
    "如果前缀树路径到达某个节点时它表示了一个完整的字符串,那么字符串最后一个字符对应的节点有特殊的标识.例如,上图中字符串最后一个字符对应的节点都用灰色背景标识.从根节点出发到达表示字符'i'的节点,由于该节点被标识为字符串的最后一个字符,因此此时路径表示的字符串\"i\"是字典中的一个单词.接着往下到达表示字符'n'的节点,这个节点也被标识为字符串的最后一个字符,因此此时路径表示的字符串\"in\"是字典中的一个单词.接着往下到达另一个表示字符'n'的节点,该节点也有同样的标识,因此此时路径表示的字符串\"inn\"是字典中的另一个单词.\n",
    "\n",
    "\n",
    "#### Trie的实现:Array Trie树\n",
    "\n",
    "abc、d、da、dda 四个字符串构成的Trie树,如果是字符串会在节点的尾部进行标记\n",
    "\n",
    "<img src='img/array_trie.jpg' style=\"zoom:40%\">\n",
    "\n",
    "如上图所示,这种实现的特点是:每个节点都由指针数组存储,每个节点的所有子节点都位于一个数组之中,每个数组都是完全一样的."
   ]
  },
  {
   "cell_type": "code",
   "execution_count": 13,
   "metadata": {},
   "outputs": [],
   "source": [
    "class Trie:\n",
    "    \"\"\"字典树的(Array Trie)实现\"\"\"\n",
    "\n",
    "    def __init__(self):\n",
    "        # 数组长度为26(即小写英文字母的数量),children[0]表示字符'a',children[1]表示字符'b',...,children[25]表示字符'z'\n",
    "        self.children = [None] * 26\n",
    "        self.isEnd = False  # 是否为字符串的结尾\n",
    "\n",
    "    def searchPrefix(self, prefix: str) -> \"Trie\":\n",
    "        \"\"\"查找前缀\"\"\"\n",
    "        node = self\n",
    "        for ch in prefix:\n",
    "            ch = ord(ch) - ord(\"a\")\n",
    "            if not node.children[ch]:  # 子节点不存在,说明字典树不包含该前缀,返回空指针\n",
    "                return None  \n",
    "            node = node.children[ch]\n",
    "        return node\n",
    "\n",
    "    def insert(self, word: str) -> None:\n",
    "        \"\"\"插入字符串\"\"\"\n",
    "        node = self\n",
    "        for ch in word:\n",
    "            ch = ord(ch) - ord(\"a\")\n",
    "            if not node.children[ch]:  # 子节点不存在\n",
    "                node.children[ch] = Trie()\n",
    "            node = node.children[ch]  # 子节点存在.沿着指针移动到子节点,继续处理下一个字符\n",
    "        node.isEnd = True  # 将当前节点标记为字符串结尾\n",
    "\n",
    "    def search(self, word: str) -> bool:\n",
    "        node = self.searchPrefix(word)\n",
    "        return node is not None and node.isEnd\n",
    "\n",
    "    def startsWith(self, prefix: str) -> bool:\n",
    "        return self.searchPrefix(prefix) is not None"
   ]
  },
  {
   "cell_type": "code",
   "execution_count": 14,
   "metadata": {},
   "outputs": [
    {
     "name": "stdout",
     "output_type": "stream",
     "text": [
      "True\n",
      "False\n",
      "True\n",
      "None\n",
      "True\n"
     ]
    }
   ],
   "source": [
    "t = Trie()\n",
    "\n",
    "t.insert(\"apple\")\n",
    "print(t.search(\"apple\"))\n",
    "print(t.search(\"app\"))\n",
    "print(t.startsWith(\"app\"))\n",
    "print(t.insert(\"app\"))\n",
    "print(t.search('app'))"
   ]
  }
 ],
 "metadata": {
  "kernelspec": {
   "display_name": "pytorch_env",
   "language": "python",
   "name": "python3"
  },
  "language_info": {
   "codemirror_mode": {
    "name": "ipython",
    "version": 3
   },
   "file_extension": ".py",
   "mimetype": "text/x-python",
   "name": "python",
   "nbconvert_exporter": "python",
   "pygments_lexer": "ipython3",
   "version": "3.10.12"
  }
 },
 "nbformat": 4,
 "nbformat_minor": 2
}
