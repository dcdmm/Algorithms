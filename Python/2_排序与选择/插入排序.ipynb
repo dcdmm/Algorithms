{
 "cells": [
  {
   "cell_type": "markdown",
   "metadata": {
    "collapsed": true,
    "pycharm": {
     "name": "#%% md\n"
    }
   },
   "source": [
    "<img src=\"../../img/插入排序.png\">\n",
    "\n",
    "\n",
    "插入排序:\n",
    "* 稳定(不改变相同数字原有顺序)\n",
    "* 比较和交换:O(n^2);最好O(n),此时初始数组已基本排序或已完全排序\n",
    "* 额外的空间:O(1)"
   ]
  },
  {
   "cell_type": "code",
   "execution_count": 3,
   "metadata": {
    "pycharm": {
     "name": "#%%\n"
    }
   },
   "outputs": [],
   "source": [
    "def insert_sort(lst):\n",
    "    for k in range(1, len(lst)):\n",
    "        cur = lst[k]\n",
    "        j = k\n",
    "        while j > 0 and lst[j-1] > cur:\n",
    "            lst[j] = lst[j-1]\n",
    "            j -= 1\n",
    "        lst[j] = cur\n",
    "    return lst"
   ]
  },
  {
   "cell_type": "code",
   "execution_count": 4,
   "metadata": {
    "pycharm": {
     "name": "#%%\n"
    }
   },
   "outputs": [
    {
     "output_type": "stream",
     "name": "stdout",
     "text": [
      "['B', 'C', 'D', 'A', 'E', 'H', 'G', 'F']\n['A', 'B', 'C', 'D', 'E', 'F', 'G', 'H']\n"
     ]
    }
   ],
   "source": [
    "disorder_lst = list('BCDAEHGF')\n",
    "print(disorder_lst)\n",
    "print(insert_sort(disorder_lst))"
   ]
  },
  {
   "cell_type": "code",
   "execution_count": null,
   "metadata": {
    "pycharm": {
     "name": "#%%\n"
    }
   },
   "outputs": [],
   "source": []
  }
 ],
 "metadata": {
  "kernelspec": {
   "display_name": "Python 3",
   "language": "python",
   "name": "python3"
  },
  "language_info": {
   "codemirror_mode": {
    "name": "ipython",
    "version": 3
   },
   "file_extension": ".py",
   "mimetype": "text/x-python",
   "name": "python",
   "nbconvert_exporter": "python",
   "pygments_lexer": "ipython3",
   "version": "3.8.5-final"
  },
  "toc": {
   "base_numbering": 1,
   "nav_menu": {},
   "number_sections": true,
   "sideBar": true,
   "skip_h1_title": false,
   "title_cell": "Table of Contents",
   "title_sidebar": "Contents",
   "toc_cell": false,
   "toc_position": {},
   "toc_section_display": true,
   "toc_window_display": false
  }
 },
 "nbformat": 4,
 "nbformat_minor": 1
}