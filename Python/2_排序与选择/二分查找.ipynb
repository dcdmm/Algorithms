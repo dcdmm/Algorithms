{
 "cells": [
  {
   "cell_type": "markdown",
   "source": [
    "二分查找:该算法用于在一个含有n个元素的有序序列中有效定位目标值\n",
    "\n",
    "&emsp;&emsp;当序列无序时,寻找一个目标值的标准方法是使用循环来检查每一个元素,直到找到目标值或检查完数据集的每个元素.\n",
    "这就是所谓的顺序查找法.因为最坏的情况下每个元素都需要检查,这个算法的时间复杂度为$O(n)$"
   ],
   "metadata": {
    "collapsed": false,
    "pycharm": {
     "name": "#%% md\n"
    }
   }
  },
  {
   "cell_type": "code",
   "execution_count": 69,
   "outputs": [
    {
     "name": "stdout",
     "output_type": "stream",
     "text": [
      "5\n"
     ]
    }
   ],
   "source": [
    "def bi_search_iter(data, target):\n",
    "    \"\"\"迭代的方式实现二分查找\"\"\"\n",
    "    left, right = 0, len(data) - 1\n",
    "    while left <= right:\n",
    "        mid = (left + right) // 2 # 地板除法\n",
    "        if data[mid] < target:\n",
    "            left = mid + 1\n",
    "        elif data[mid] > target:\n",
    "            right = mid - 1\n",
    "        else: # alist[mid] = item\n",
    "            return mid\n",
    "    return False\n",
    "\n",
    "lst_sort = [1, 2, 3, 4, 5, 6]\n",
    "print(bi_search_iter(lst_sort, 6))"
   ],
   "metadata": {
    "collapsed": false,
    "pycharm": {
     "name": "#%%\n"
    }
   }
  },
  {
   "cell_type": "code",
   "execution_count": 70,
   "outputs": [
    {
     "name": "stdout",
     "output_type": "stream",
     "text": [
      "6\n",
      "7\n",
      "2\n"
     ]
    }
   ],
   "source": [
    "# 二分查找的时间复杂度为log n\n",
    "def binary_search(data, target, left, right):\n",
    "    \"\"\"递归的方式实现二分查找\"\"\"\n",
    "    if left > right:\n",
    "        return False\n",
    "    else:\n",
    "        mid = (left + right) // 2\n",
    "        if target == data[mid]:\n",
    "            return mid\n",
    "        elif target < data[mid]:\n",
    "            return binary_search(data, target, left, mid-1)\n",
    "        else:\n",
    "            return binary_search(data, target, mid+1, right)\n",
    "\n",
    "lst_sort = [0, 3, 3, 3, 3, 5, 7, 8, 9, 10, 11, 12, 13, 14] # 必须已经排好序\n",
    "print(binary_search(lst_sort, 7, left=0, right=13))\n",
    "print(binary_search(lst_sort, 8, left=0, right=13))\n",
    "print(binary_search(lst_sort, 3, left=0, right=13)) # 不能保证找到的3的是第一个出现的还是最后一个出现的"
   ],
   "metadata": {
    "collapsed": false,
    "pycharm": {
     "name": "#%%\n"
    }
   }
  },
  {
   "cell_type": "code",
   "execution_count": 70,
   "outputs": [],
   "source": [],
   "metadata": {
    "collapsed": false,
    "pycharm": {
     "name": "#%%\n"
    }
   }
  }
 ],
 "metadata": {
  "kernelspec": {
   "display_name": "Python 3",
   "language": "python",
   "name": "python3"
  },
  "language_info": {
   "codemirror_mode": {
    "name": "ipython",
    "version": 2
   },
   "file_extension": ".py",
   "mimetype": "text/x-python",
   "name": "python",
   "nbconvert_exporter": "python",
   "pygments_lexer": "ipython2",
   "version": "2.7.6"
  }
 },
 "nbformat": 4,
 "nbformat_minor": 0
}