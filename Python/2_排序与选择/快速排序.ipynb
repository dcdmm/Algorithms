{
 "cells": [
  {
   "cell_type": "markdown",
   "metadata": {
    "collapsed": true,
    "pycharm": {
     "name": "#%% md\n"
    }
   },
   "source": [
    "### 快速排序的过程\n",
    "1. 分解:如果S有至少2个元素(如果S只有1个或0个元素,什么都不用做),从S中选择一个特定的元素x,称之为基准值(pivot).\n",
    "一般情况下,选择S中最后一个元素作为基准值.从S中移除所有的元素,并把它们放到3个序列中:\n",
    "* L储存S中小于x的元素\n",
    "* E储存S中等于x的元素\n",
    "* G储存S中大于x的元素\n",
    "\n",
    "如果S中元素是相异的,那么E将只含有一个元素---基准值自己\n",
    "\n",
    "2. 解决子问题:递归地排序序列L和G\n",
    "3. 合并:把S中的元素按照先插入L中的元素,然后插入E中的元素,最后插入G中的元素的顺序放回\n",
    "\n",
    "时间复杂度(主定理分析易知):\n",
    "* 最坏时间复杂度:$O(n^2)$\n",
    "* 最好时间复杂度:$O(n \\log n)$,发生在序列由不同的元素构成,且子序列L与G的大小大致相等的情况"
   ]
  },
  {
   "cell_type": "code",
   "execution_count": 1,
   "metadata": {},
   "outputs": [],
   "source": [
    "class Empty(Exception):\n",
    "    \"\"\"Error attempting to access an element from an empty container\"\"\"\n",
    "    pass\n",
    "\n",
    "\n",
    "class LinkedQueue:\n",
    "    class _Node:\n",
    "        def __init__(self, element, pointer):  # initialize node's fields\n",
    "            self._element = element  # reference to user's element\n",
    "            self._pointer = pointer  # reference th next node\n",
    "\n",
    "    def __init__(self):\n",
    "        \"\"\"Create an empty queue\"\"\"\n",
    "        self._head = None\n",
    "        self._tail = None\n",
    "        self._size = 0  # number of queue elements\n",
    "\n",
    "    def __len__(self):\n",
    "        \"\"\"Return the number of elements in the queue\"\"\"\n",
    "        return self._size\n",
    "\n",
    "    def is_empty(self):\n",
    "        \"\"\"Return True if the queue is empty\"\"\"\n",
    "        return self._size == 0\n",
    "\n",
    "    def first(self):\n",
    "        \"\"\"Return (but do not remove) the element at the front of the queue \"\"\"\n",
    "        if self.is_empty():\n",
    "            raise Empty('Queue is empty')\n",
    "        return self._head._element\n",
    "\n",
    "    def dequeue(self):\n",
    "        \"\"\"Remove and return the first element of the queue\"\"\"\n",
    "        if self.is_empty():\n",
    "            raise Empty('Queue is empty')\n",
    "        answer = self._head._element\n",
    "        node = self._head\n",
    "        self._head = self._head._pointer\n",
    "        node._pointer = node._element = None  # 显式的删除该节点\n",
    "        self._size -= 1\n",
    "        if self.is_empty():  # special case as queue is empty\n",
    "            self._tail = None  # removed head had been the tail\n",
    "        return answer\n",
    "\n",
    "    # 在链表尾节点后添加节点,尾节点为最后进入的元素\n",
    "    def enqueue(self, e):  # 不理解画图\n",
    "        \"\"\"Add an element to the back of queue\"\"\"\n",
    "        newest = self._Node(e, None)  # node will be new tail node\n",
    "        if self.is_empty():\n",
    "            self._head = newest  # special case:previously empty\n",
    "        else:\n",
    "            self._tail._pointer = newest\n",
    "        self._tail = newest\n",
    "        self._size += 1\n",
    "\n",
    "    def printer_queue(self):\n",
    "        node = self._head\n",
    "        while node:\n",
    "            print(node._element, end=\" \")\n",
    "            node = node._pointer\n",
    "        print()\n",
    "\n",
    "\n",
    "def quick_sort(S):\n",
    "    \"\"\"Sort the elements of queue S using the quick-sort algorithm\"\"\"\n",
    "    n = len(S)\n",
    "    if n < 2:\n",
    "        return\n",
    "\n",
    "    # 第一步\n",
    "    # divide\n",
    "    p = S.first()  # using first as arbitrary pivot\n",
    "    L = LinkedQueue()\n",
    "    E = LinkedQueue()\n",
    "    G = LinkedQueue()\n",
    "    while not S.is_empty():\n",
    "        if S.first() < p:\n",
    "            L.enqueue(S.dequeue())\n",
    "        elif p < S.first():\n",
    "            G.enqueue(S.dequeue())\n",
    "        else:\n",
    "            E.enqueue(S.dequeue())\n",
    "\n",
    "    # 第二步\n",
    "    # conquer(with recursion)\n",
    "    quick_sort(L)  # sort elements less than p\n",
    "    quick_sort(G)  # sort elements grater than p\n",
    "\n",
    "    # 第三步\n",
    "    # concatenae results\n",
    "    while not L.is_empty():\n",
    "        S.enqueue(L.dequeue())\n",
    "    while not E.is_empty():\n",
    "        S.enqueue(E.dequeue())\n",
    "    while not G.is_empty():\n",
    "        S.enqueue(G.dequeue())"
   ]
  },
  {
   "cell_type": "code",
   "execution_count": 2,
   "outputs": [
    {
     "name": "stdout",
     "output_type": "stream",
     "text": [
      "24 45 63 85 17 31 50 96 \n",
      "17 24 31 45 50 63 85 96 \n"
     ]
    }
   ],
   "source": [
    "lq = LinkedQueue()\n",
    "lq.enqueue(24)\n",
    "lq.enqueue(45)\n",
    "lq.enqueue(63)\n",
    "lq.enqueue(85)\n",
    "lq.enqueue(17)\n",
    "lq.enqueue(31)\n",
    "lq.enqueue(50)\n",
    "lq.enqueue(96)\n",
    "lq.printer_queue()\n",
    "\n",
    "quick_sort(lq)\n",
    "lq.printer_queue()"
   ],
   "metadata": {
    "collapsed": false,
    "pycharm": {
     "name": "#%%\n"
    }
   }
  },
  {
   "cell_type": "markdown",
   "metadata": {},
   "source": [
    "### 下面程序的运行过程\n",
    "\n",
    "<img src=\"../../Other/img/快速排序.png\">"
   ]
  },
  {
   "cell_type": "code",
   "execution_count": 3,
   "metadata": {
    "pycharm": {
     "name": "#%%\n"
    }
   },
   "outputs": [],
   "source": [
    "def inplace_quick_sort(S, a, b):  # 对Python列表S的就地快速排序(不需要额外的容器空间)\n",
    "    \"\"\"Sort the list from S[a] to S[b] inclusive using the quick-sort algorithm\"\"\"\n",
    "    if a >= b:  # range is trivially sorted\n",
    "        return\n",
    "    # 最后一个元素作为基准值\n",
    "    pivot = S[b]  # last element of range is pivot\n",
    "    left = a  # will scan rightward\n",
    "    right = b - 1  # will scan leftward\n",
    "    while left <= right:\n",
    "        # scan until reaching value equal or larger the pivot(or right marker)\n",
    "        while left <= right and S[left] < pivot:\n",
    "            left += 1\n",
    "        # scan until reaching value equal or smaller the pivot(or left marker)\n",
    "        while left <= right and pivot < S[right]:\n",
    "            right -= 1\n",
    "        if left <= right:\n",
    "            S[left], S[right] = S[right], S[left]  # swap values\n",
    "            # 交换一次后,原来的left必定小于pivot,原来的right必定大于privot,故此时left += 1,right -= 1\n",
    "            left, right = left + 1, right - 1  # shrink range\n",
    "    # 上图中最后left=4,right=3,left>right,跳出循环\n",
    "\n",
    "    # put privot into its final place(currently marked by left index)\n",
    "    S[left], S[b] = S[b], S[left]  # 交换最后一个left位置处的元素和最后一个元素,得到最后一个元素正确的位置\n",
    "\n",
    "    # 递归地解决剩下两边的子序列\n",
    "    inplace_quick_sort(S, a, left - 1)\n",
    "    inplace_quick_sort(S, left + 1, b)"
   ]
  },
  {
   "cell_type": "code",
   "execution_count": 4,
   "metadata": {
    "pycharm": {
     "name": "#%%\n"
    }
   },
   "outputs": [
    {
     "name": "stdout",
     "output_type": "stream",
     "text": [
      "[85, 24, 63, 45, 17, 31, 96, 50]\n",
      "[17, 24, 31, 45, 50, 63, 85, 96]\n"
     ]
    }
   ],
   "source": [
    "lst = [85, 24, 63, 45, 17, 31, 96, 50]\n",
    "print(lst)\n",
    "inplace_quick_sort(lst, 0, 7)\n",
    "print(lst)"
   ]
  },
  {
   "cell_type": "markdown",
   "metadata": {
    "pycharm": {
     "name": "#%% md\n"
    }
   },
   "source": [
    "基准值的选择:在实践中,一种选择基准值的常用技巧是取数组的头部,中部和尾部的值的中位数.这种三数取中的启发式搜索将更多地选择到好的基准值,对于更大的数据集合,可能需要计算多余三个潜在基准值的中值"
   ]
  },
  {
   "cell_type": "code",
   "execution_count": 4,
   "metadata": {},
   "outputs": [],
   "source": []
  }
 ],
 "metadata": {
  "kernelspec": {
   "display_name": "Python 3",
   "language": "python",
   "name": "python3"
  },
  "language_info": {
   "codemirror_mode": {
    "name": "ipython",
    "version": 3
   },
   "file_extension": ".py",
   "mimetype": "text/x-python",
   "name": "python",
   "nbconvert_exporter": "python",
   "pygments_lexer": "ipython3",
   "version": "3.7.9"
  },
  "toc": {
   "base_numbering": 1,
   "nav_menu": {},
   "number_sections": true,
   "sideBar": true,
   "skip_h1_title": false,
   "title_cell": "Table of Contents",
   "title_sidebar": "Contents",
   "toc_cell": false,
   "toc_position": {},
   "toc_section_display": true,
   "toc_window_display": false
  }
 },
 "nbformat": 4,
 "nbformat_minor": 1
}