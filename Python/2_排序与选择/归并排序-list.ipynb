{
 "cells": [
  {
   "cell_type": "markdown",
   "metadata": {
    "collapsed": true,
    "pycharm": {
     "name": "#%% md\n"
    }
   },
   "source": [
    "### 归并排序的过程\n",
    "1. 分解:若S只有0个或1个元素,直接返回S;此时它已经完成排序了.否则(若S有至少2个元素),从S中移除所有元素,\n",
    "然后将它们放到$S_1$,$S_2$两个序列中,每一个序列包含S中一一半的元素.这就是说,$S_1$包含S前一半的元素,$S_2$包含S后一半的元素.\n",
    "2. 解决子问题:递归地对$S_1$和$S_2$进行排序\n",
    "3. 合并:把这些分别在$S_1$和$S_2$中排好序的元素拿出并按照顺序合并到$S$序列中\n",
    "\n",
    "### 归并排序的概念\n",
    "\n",
    "<img src=\"../../Other/img/归并排序0.png\">\n",
    "\n",
    "\n",
    "### 归并排序执行过程\n",
    "\n",
    "<img src=\"../../Other/img/归并排序1.png\">\n",
    "\n",
    "<img src=\"../../Other/img/归并排序2.png\">\n",
    "\n",
    "归并排序:\n",
    "* 稳定(不改变相同数字原有顺序)\n",
    "* 时间复杂度:$ O(n logn) $"
   ]
  },
  {
   "cell_type": "code",
   "execution_count": 37,
   "metadata": {
    "pycharm": {
     "name": "#%%\n"
    }
   },
   "outputs": [],
   "source": [
    "def merge(S1, S2, S):\n",
    "    \"\"\"Merge two sorted Python lists S1 and S2 into properly sized list S\"\"\"\n",
    "    i = j = 0\n",
    "    while i + j < len(S):\n",
    "        if j == len(S2) or (i < len(S1) and S1[i] < S2[j]): # 条件1,添加S1中的元素\n",
    "            S[i+j] = S1[i]\n",
    "            i += 1\n",
    "        else: # 条件2,否则添加S2中的元素\n",
    "            S[i+j] = S2[j]\n",
    "            j += 1\n",
    "\n",
    "\"\"\"\n",
    "条件1:\n",
    "    * j == len(S2) or (i < len(S1) and S1[i] < S2[j])\n",
    "条件2:\n",
    "    * j != len(S2) and (i >= len(S1) or S1[i] >= S2[j])\n",
    "\"\"\"\n",
    "\n",
    "def merge_sort(S): # 递归实现\n",
    "    \"\"\"Sort the elements of Pytohn list S using the merge-sort algorithm\"\"\"\n",
    "    n = len(S)\n",
    "    if n < 2:\n",
    "        return # list is alread sorted\n",
    "    # 第一步\n",
    "    # divide\n",
    "    mid = n // 2\n",
    "    S1 = S[0:mid]\n",
    "    S2 = S[mid:n]\n",
    "    \n",
    "    # 第二步\n",
    "    merge_sort(S1) # copy of first half.(额外的内存空间,由主定理可得,额外的空间复杂度为O(n))\n",
    "    merge_sort(S2) # copy of second half\n",
    "    \n",
    "    # 第三步\n",
    "    # merge results\n",
    "    merge(S1, S2, S)"
   ]
  },
  {
   "cell_type": "code",
   "execution_count": 38,
   "metadata": {
    "pycharm": {
     "name": "#%%\n"
    }
   },
   "outputs": [
    {
     "name": "stdout",
     "output_type": "stream",
     "text": [
      "[1, 0, 5, 6, 2, 9, 7]\n",
      "[0, 1, 2, 5, 6, 7, 9]\n"
     ]
    }
   ],
   "source": [
    "lst = [1, 0, 5, 6, 2, 9, 7]\n",
    "print(lst)\n",
    "merge_sort(lst)\n",
    "print(lst)"
   ]
  },
  {
   "cell_type": "code",
   "execution_count": null,
   "metadata": {
    "pycharm": {
     "name": "#%%\n"
    }
   },
   "outputs": [],
   "source": []
  }
 ],
 "metadata": {
  "kernelspec": {
   "display_name": "Python 3",
   "language": "python",
   "name": "python3"
  },
  "language_info": {
   "codemirror_mode": {
    "name": "ipython",
    "version": 3
   },
   "file_extension": ".py",
   "mimetype": "text/x-python",
   "name": "python",
   "nbconvert_exporter": "python",
   "pygments_lexer": "ipython3",
   "version": "3.7.9"
  },
  "toc": {
   "base_numbering": 1,
   "nav_menu": {},
   "number_sections": true,
   "sideBar": true,
   "skip_h1_title": false,
   "title_cell": "Table of Contents",
   "title_sidebar": "Contents",
   "toc_cell": false,
   "toc_position": {},
   "toc_section_display": true,
   "toc_window_display": false
  }
 },
 "nbformat": 4,
 "nbformat_minor": 1
}