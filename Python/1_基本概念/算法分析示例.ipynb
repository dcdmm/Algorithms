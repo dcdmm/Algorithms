{
 "cells": [
  {
   "cell_type": "code",
   "metadata": {
    "collapsed": true,
    "pycharm": {
     "name": "#%%\n"
    }
   },
   "source": [
    "# 说函数的运行时间为O(1),也就是说,函数的运行时间是独立于n的\n",
    "\n",
    "lst = [1, 2, 3, 4, 5]\n",
    "lst[-3] # O(1)"
   ],
   "execution_count": 3,
   "outputs": [
    {
     "data": {
      "text/plain": "3"
     },
     "execution_count": 3,
     "metadata": {},
     "output_type": "execute_result"
    }
   ]
  },
  {
   "cell_type": "code",
   "execution_count": 4,
   "outputs": [],
   "source": [
    "a = 3 # O(1)\n",
    "b = 2 # O(1)\n",
    "c = a + b # O(1)"
   ],
   "metadata": {
    "collapsed": false,
    "pycharm": {
     "name": "#%%\n"
    }
   }
  },
  {
   "cell_type": "code",
   "source": [
    "def log_n(n):\n",
    "    init = 1\n",
    "    for i in range(n):\n",
    "        init += i*2 # O(log n)\n",
    "\n",
    "    return init"
   ],
   "metadata": {
    "collapsed": false,
    "pycharm": {
     "name": "#%%\n"
    }
   },
   "execution_count": 5,
   "outputs": []
  },
  {
   "cell_type": "markdown",
   "source": [
    "例,计算:$$ A[j] = \\frac{\\sum_{i=1}^i S[i] }{j+1} $$"
   ],
   "metadata": {
    "collapsed": false,
    "pycharm": {
     "name": "#%% md\n"
    }
   }
  },
  {
   "cell_type": "code",
   "execution_count": null,
   "outputs": [],
   "source": [
    "def prfix_average1(S):\n",
    "    n = len(S)\n",
    "    A = [0] * n\n",
    "    for j in range(n):\n",
    "        total = 0\n",
    "        for i in range(j+1):\n",
    "            total += S[i]\n",
    "        A[j] = total / (j+1)\n",
    "\n",
    "    return A\n",
    "\n",
    "# 语句A = [0] * n 的运行时间为O(n)\n",
    "# 外层循环共执行n次,语句total = 0和A[j] = total / (j+1)各被执行n次,故运行时间为O(n)\n",
    "# 内层循环语句total += S[i]共执行1+2+3+...+n次,故运行时间为O(n^2)\n",
    "# 综上所述,时间复杂度为O(n^2)"
   ],
   "metadata": {
    "collapsed": false,
    "pycharm": {
     "name": "#%%\n"
    }
   }
  },
  {
   "cell_type": "code",
   "execution_count": null,
   "outputs": [],
   "source": [
    "def prfix_average2(S):\n",
    "    n = len(S)\n",
    "    A = [0] * n\n",
    "    total = 0\n",
    "    for j in range(n):\n",
    "        total += S[j]\n",
    "        A[j] = total / (j+1)\n",
    "    return A\n",
    "\n",
    "# 初始化变量n和total,用时O(1)\n",
    "# 初始化列表A,用时O(n)\n",
    "# 语句total += S[j],A[j] = total / (j+1)各被执行n次,故运行时间为O(n)\n",
    "# 综上所述,时间复杂度为O(n)"
   ],
   "metadata": {
    "collapsed": false,
    "pycharm": {
     "name": "#%%\n"
    }
   }
  },
  {
   "cell_type": "code",
   "execution_count": null,
   "outputs": [],
   "source": [
    "# 假设有三个序列A,B,C.假设任一序列没有重复值,但不同序列间可以重复.三集不相交问题就是确定三个序列的交集是否为空\n",
    "\n",
    "def disjoin1(A, B, C):\n",
    "    \"\"\"易知时间复杂度为O(n^3)\"\"\"\n",
    "    for a in A:\n",
    "        for b in B:\n",
    "            for c in C:\n",
    "                if a == b == c:\n",
    "                    return False\n",
    "    return True"
   ],
   "metadata": {
    "collapsed": false,
    "pycharm": {
     "name": "#%%\n"
    }
   }
  },
  {
   "cell_type": "code",
   "execution_count": null,
   "outputs": [],
   "source": [
    "def disjoin2(A, B, C):\n",
    "    for a in A:\n",
    "        for b in B:\n",
    "            if a == b:\n",
    "                for c in C:\n",
    "                    if a == c:\n",
    "                        return False\n",
    "    return True\n",
    "\n",
    "# for循环在A上需要运行O(n),在B上共需要O(n^2)\n",
    "# 故a == b运行时间为O(n^2)\n",
    "# 剩下的运行时间取决于找到多少匹配的(a, b)对.因为我们已经注意到,最多有n对,因此for循环在C上以及循环体内执行最多用式O(n^2)\n",
    "# 综上所述,时间复杂度为O(n^2)"
   ],
   "metadata": {
    "collapsed": false,
    "pycharm": {
     "name": "#%%\n"
    }
   }
  },
  {
   "cell_type": "code",
   "execution_count": null,
   "outputs": [],
   "source": [],
   "metadata": {
    "collapsed": false,
    "pycharm": {
     "name": "#%%"
    }
   }
  }
 ],
 "metadata": {
  "kernelspec": {
   "display_name": "Python 3",
   "language": "python",
   "name": "python3"
  },
  "language_info": {
   "codemirror_mode": {
    "name": "ipython",
    "version": 2
   },
   "file_extension": ".py",
   "mimetype": "text/x-python",
   "name": "python",
   "nbconvert_exporter": "python",
   "pygments_lexer": "ipython2",
   "version": "2.7.6"
  }
 },
 "nbformat": 4,
 "nbformat_minor": 0
}