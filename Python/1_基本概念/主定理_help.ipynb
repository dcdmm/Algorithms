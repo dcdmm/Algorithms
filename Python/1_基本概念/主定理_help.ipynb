{
 "cells": [
  {
   "cell_type": "markdown",
   "metadata": {},
   "source": [
    "&emsp;&emsp;令$ a \\geq 1 $和$b \\geq 1$是常数,$f(n)$是一个函数,$T(n)$是定义在非负整数上的递归式:\n",
    "\n",
    "$$ T(n) = a T(n / b)  + f(n)$$\n",
    "\n",
    "其中我们将$ n/ b$解释为$ \\lceil n/b  \\rceil $或$ \\lfloor n/b \\rfloor  $.那么$T(n)$有如下渐进界\n",
    "\n",
    "1. 若对某个常数$ \\epsilon > 0 $有$ f(n) = O( n^{\\log_b^{a - \\epsilon}}) $,则$ T(n) = \\Theta (n^{\\log_b a}) $\n",
    "2. 若$f(n) = \\Theta (n^{\\log_b a})$,则有$T(n) = \\Theta (n^{\\log_b^a \\lg n})$\n",
    "3. 若对某个常数$ \\epsilon > 0 $有$f(n) = \\Omega(n^{\\log_b ^{a + \\epsilon}})  $,且对某个常数$c < 1$和所有足够大的$n$有\n",
    "$ a f(n/b) \\leq cf(n) $,则 $T(n) = \\Theta (f(n))$\n",
    "\n",
    "&emsp;&emsp;我们将函数$f(n)$与函数$n^{\\log_b^a}$进行比较.直觉上,两个函数较大者决定了递归式的解,\n",
    "若函数$n^{\\log_b^a}$更大,如情况一,则解为$T(n)= \\Theta(n^{\\log_b^a})$.\n",
    "若函数$f(n)$更大,如情况3,则解为$\\Theta(f(n))$.若两个函数大小相当,如情况2,则乘上一个对数因子,解为$T(n)=\\Theta(n^{\\log_b^a \\ln n}) =\\Theta(f(n) \\lg n)$\n",
    "\n",
    "&emsp;&emsp;注意,这三种情况并未覆盖$f(n)$的所有可能.情况一和情况二直接有一定的间隙,\n",
    "$f(n)$可能小于$n^{\\log_b^a}$但不是多项式意义上的小于.类似地,情况二和情况三直接也有一定的间隙,\n",
    "$f(n)$可能大于$n^{\\log_b^a}$但不是多项式意义上得到大于.如果函数$f(n)$落在这两个间隙中,或者情况三中要求的正则条件不成立,就不能使用主方法来求解递归式.\n",
    "\n",
    "***\n",
    "\n",
    "例1:\n",
    "\n",
    "$$ T(n)  = 9T(n/3) + n$$\n",
    "\n",
    "易知,$a=9, b=3, f(n)=n,n^{\\log_b^a}=n^{2}$,由于$f(n) = O(n^{\\log_3^{9 - 1}})$,其中$\\epsilon=1$.满足主定理的情况1.\n",
    "从而得到解$T(n)=\\Theta(n^2)$\n",
    "\n",
    "***\n",
    "\n",
    "例2:\n",
    "\n",
    "$$ T(n) = T(2n/3) + 1 $$\n",
    "\n",
    "易知,$a=1,b=3/2,f(n)=1,n^{\\log_b^a}=1$.由于$f(n) = \\Theta(n^{\\log_b^a}) = \\Theta(1)$,满足主定理的情况2.从而得到解$T(n)=\\Theta(lg n)$\n",
    "\n",
    "***\n",
    "\n",
    "例3:\n",
    "\n",
    "$$T(n) = 3 T(n /4) + n \\lg n$$\n",
    "\n",
    "易知,$ a=3,b=4,f(n) = n \\lg n,n^{\\log_b^a} = n^{\\log_4^3} = O(n^{0.793}) $.由于$f(n) = \\Omega(n^{\\log_4^{3+\\epsilon}})$,\n",
    "其中$ \\epsilon \\approx 0.2$,因此,如果可以证明正则条件成立,即可应用情况3.当$n$足够大时,对于$c=3/4$,\n",
    "$af(n/b) = 3(n/4)\\lg (n/4) \\leq (3/4) n \\lg n$.因此,由情况3,递归式的解为$T(n) = \\Theta(f(n)) = \\Theta(n \\lg n)$\n",
    "\n",
    "***\n",
    "\n",
    "例4:\n",
    "\n",
    "$$ T(n) = 2 T(n /2) + n \\lg n$$\n",
    "易知,$a=2,b=2,f(n) = n \\lg n, n^{\\log_b^a} = n$.可知,$f(n)=n \\lg n $渐进大于$n$.问题出在它并不是多项式意义上的大于.\n",
    "对于任意正常数$\\epsilon$,比值$f(n)/ n^{\\log_b^a} = lg n $都渐进小于$n^{\\epsilon}$.因此,递归式落入了情况2和情况3直接的间隙."
   ]
  }
 ],
 "metadata": {
  "kernelspec": {
   "display_name": "Python 3",
   "language": "python",
   "name": "python3"
  },
  "language_info": {
   "codemirror_mode": {
    "name": "ipython",
    "version": 3
   },
   "file_extension": ".py",
   "mimetype": "text/x-python",
   "name": "python",
   "nbconvert_exporter": "python",
   "pygments_lexer": "ipython3",
   "version": "3.8.5"
  }
 },
 "nbformat": 4,
 "nbformat_minor": 4
}