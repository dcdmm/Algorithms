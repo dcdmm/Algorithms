{
 "cells": [
  {
   "cell_type": "markdown",
   "metadata": {},
   "source": [
    "### 常数函数\n",
    "\n",
    "$$ f(n) =c  $$\n",
    "\n",
    "\n",
    "### 对数函数\n",
    "\n",
    "$$ x = \\log_b n  \\quad \\text{当且仅当} b^x = n $$\n",
    "\n",
    "\n",
    "### 线性函数\n",
    "\n",
    "$$ f(n) = n $$\n",
    "\n",
    "### n log n 函数\n",
    "\n",
    "$$ f(n) = n \\log n $$\n",
    "\n",
    "### 二次函数\n",
    "\n",
    "$$ f(n) = n^2 $$\n",
    "\n",
    "### 指数函数\n",
    "\n",
    "$$ f(n) = b^n $$\n",
    "\n",
    "\n",
    "### 复杂性增长的阶\n",
    "\n",
    "$$ O(1) < O(\\log n) < O(n) < O(n \\log n) < O(n^2) < O(2^n) $$"
   ]
  },
  {
   "cell_type": "code",
   "execution_count": 1,
   "metadata": {},
   "outputs": [
    {
     "data": {
      "text/plain": "<Figure size 432x288 with 1 Axes>",
      "image/png": "[encoded data removed]"
     },
     "metadata": {
      "needs_background": "light"
     },
     "output_type": "display_data"
    }
   ],
   "source": [
    "# 比较增长级别\n",
    "\n",
    "import numpy as np\n",
    "import matplotlib.pyplot as plt\n",
    "import matplotlib\n",
    "\n",
    "matplotlib.rcParams['font.sans-serif'] = ['SimHei']\n",
    "matplotlib.rcParams['axes.unicode_minus'] = False\n",
    "x_arange = np.linspace(0.00001, 10, 10000)\n",
    "constant = np.ones_like(x_arange)\n",
    "log_x = np.log2(x_arange)\n",
    "n = x_arange\n",
    "nlogn = x_arange * np.log2(x_arange)\n",
    "n_square = x_arange ** 2\n",
    "Exponentia = 2 ** x_arange\n",
    "\n",
    "plt.plot(x_arange, constant, label='常数')\n",
    "plt.plot(x_arange, log_x, label='对数')\n",
    "plt.plot(x_arange, n, label='n')\n",
    "plt.plot(x_arange, nlogn, label='$n \\log n$')\n",
    "plt.plot(x_arange, n_square, label='$n^2$')\n",
    "plt.plot(x_arange, Exponentia, label='$2^n$')\n",
    "plt.legend()\n",
    "plt.show()"
   ]
  },
  {
   "cell_type": "code",
   "execution_count": 1,
   "metadata": {},
   "outputs": [],
   "source": []
  }
 ],
 "metadata": {
  "kernelspec": {
   "display_name": "Python 3",
   "language": "python",
   "name": "python3"
  },
  "language_info": {
   "codemirror_mode": {
    "name": "ipython",
    "version": 3
   },
   "file_extension": ".py",
   "mimetype": "text/x-python",
   "name": "python",
   "nbconvert_exporter": "python",
   "pygments_lexer": "ipython3",
   "version": "3.8.5"
  }
 },
 "nbformat": 4,
 "nbformat_minor": 4
}