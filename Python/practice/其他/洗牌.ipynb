{
 "cells": [
  {
   "cell_type": "markdown",
   "source": [
    "### 问题描述\n",
    "\n",
    "洗牌后的每个元素随机出现在每个位置,且<font color='red'>概率相同</font>"
   ],
   "metadata": {
    "collapsed": false,
    "pycharm": {
     "name": "#%% md\n"
    }
   }
  },
  {
   "cell_type": "code",
   "execution_count": 13,
   "outputs": [],
   "source": [
    "import random\n",
    "import numpy as np"
   ],
   "metadata": {
    "collapsed": false,
    "pycharm": {
     "name": "#%%\n"
    }
   }
  },
  {
   "cell_type": "code",
   "execution_count": 14,
   "outputs": [],
   "source": [
    "def test_shuffle(func, numbers=10, count=10000):\n",
    "    \"\"\"\n",
    "    洗牌测试\n",
    "    :param func: 洗牌函数\n",
    "    :param numbers: 牌元素的个数\n",
    "    :param count: 洗牌的次数\n",
    "    :return:\n",
    "    \"\"\"\n",
    "    result = np.zeros((numbers, numbers))\n",
    "\n",
    "    for i in range(count):\n",
    "        A = [i for i in range(0, numbers)]\n",
    "        func(A)\n",
    "        for j in range(numbers):\n",
    "            result[A[j]][j] += 1  # j号牌被洗到A[j]号牌的次数+1\n",
    "    print(np.array(result))"
   ],
   "metadata": {
    "collapsed": false,
    "pycharm": {
     "name": "#%%\n"
    }
   }
  },
  {
   "cell_type": "code",
   "execution_count": 15,
   "outputs": [],
   "source": [
    "def shuffle_system(cards):\n",
    "    random.shuffle(cards)"
   ],
   "metadata": {
    "collapsed": false,
    "pycharm": {
     "name": "#%%\n"
    }
   }
  },
  {
   "cell_type": "markdown",
   "source": [
    "* i=0时,任何牌(n张)洗到第0号牌的概率为$1/n$\n",
    "* i=1时,任何牌(n张)洗到第1号牌的概率也为$1/n$\n",
    "    * 0号牌: $ \\frac{n-1}{n} * \\frac{1}{n-1} = \\frac{1}{n} $\n",
    "    * 其他号牌: $ \\frac{n-1}{n} * \\frac{1}{n-1} = \\frac{1}{n} $\n",
    "\n",
    "* ......\n",
    "\n",
    "故概率都为$\\frac{1}{n}$"
   ],
   "metadata": {
    "collapsed": false,
    "pycharm": {
     "name": "#%% md\n"
    }
   }
  },
  {
   "cell_type": "code",
   "execution_count": 16,
   "outputs": [],
   "source": [
    "def shuffle_correct(cards):\n",
    "    for i in range(len(cards)):\n",
    "        randomi = random.randint(i, (len(cards) - 1))\n",
    "        cards[i], cards[randomi] = cards[randomi], cards[i]"
   ],
   "metadata": {
    "collapsed": false,
    "pycharm": {
     "name": "#%%\n"
    }
   }
  },
  {
   "cell_type": "code",
   "execution_count": 17,
   "outputs": [
    {
     "name": "stdout",
     "output_type": "stream",
     "text": [
      "[[1012. 1010.  934. 1031. 1040. 1006.  986.  985.  985. 1011.]\n",
      " [ 958. 1006.  995. 1012.  981. 1004. 1016. 1043.  973. 1012.]\n",
      " [ 990.  997. 1058. 1047.  991. 1010.  999.  945.  988.  975.]\n",
      " [ 985. 1058. 1049.  941.  965.  995.  995.  995. 1031.  986.]\n",
      " [1042.  973.  996. 1007.  988.  967. 1024. 1014.  964. 1025.]\n",
      " [ 978. 1006.  987. 1023. 1012.  999. 1018. 1004.  992.  981.]\n",
      " [ 975. 1000.  985.  966. 1010. 1000.  979. 1034. 1047. 1004.]\n",
      " [1078.  998.  984.  967. 1000.  978.  999.  988.  998. 1010.]\n",
      " [1012. 1025.  969.  992. 1060. 1031.  938. 1013.  978.  982.]\n",
      " [ 970.  927. 1043. 1014.  953. 1010. 1046.  979. 1044. 1014.]]\n"
     ]
    }
   ],
   "source": [
    "test_shuffle(shuffle_system, 10)  # 概率基本相同"
   ],
   "metadata": {
    "collapsed": false,
    "pycharm": {
     "name": "#%%\n"
    }
   }
  },
  {
   "cell_type": "code",
   "execution_count": 18,
   "outputs": [
    {
     "name": "stdout",
     "output_type": "stream",
     "text": [
      "[[1038. 1038. 1025.  991. 1011. 1028.  950.  942. 1004.  973.]\n",
      " [1002. 1001.  991.  952.  997.  981. 1041. 1014. 1043.  978.]\n",
      " [ 961. 1004. 1032.  999.  952.  996. 1067.  976. 1020.  993.]\n",
      " [ 964. 1009. 1013. 1016.  958.  987. 1017.  989. 1004. 1043.]\n",
      " [ 961.  999.  984. 1001.  968. 1042. 1004. 1013. 1008. 1020.]\n",
      " [1060.  977.  999. 1048.  959. 1003.  929. 1046. 1006.  973.]\n",
      " [ 985.  991.  996. 1004. 1015.  975. 1018. 1024.  948. 1044.]\n",
      " [ 967. 1003.  995. 1006. 1075. 1020.  979. 1003.  961.  991.]\n",
      " [1035.  955.  992. 1011. 1047.  980.  998. 1010.  985.  987.]\n",
      " [1027. 1023.  973.  972. 1018.  988.  997.  983. 1021.  998.]]\n"
     ]
    }
   ],
   "source": [
    "test_shuffle(shuffle_correct, 10)  # 概率基本相同"
   ],
   "metadata": {
    "collapsed": false,
    "pycharm": {
     "name": "#%%\n"
    }
   }
  }
 ],
 "metadata": {
  "kernelspec": {
   "display_name": "Python 3",
   "language": "python",
   "name": "python3"
  },
  "language_info": {
   "codemirror_mode": {
    "name": "ipython",
    "version": 2
   },
   "file_extension": ".py",
   "mimetype": "text/x-python",
   "name": "python",
   "nbconvert_exporter": "python",
   "pygments_lexer": "ipython2",
   "version": "2.7.6"
  }
 },
 "nbformat": 4,
 "nbformat_minor": 0
}