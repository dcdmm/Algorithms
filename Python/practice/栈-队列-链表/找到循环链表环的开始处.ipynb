{
 "cells": [
  {
   "cell_type": "markdown",
   "source": [
    "1. 若循环链表的环从头节点开始,易知此时slow指针和fast指针在头节点处相遇\n",
    "2. 若循环链表的环不从头节点开始\n",
    "    * 假设slow指针走到k步后走到了头节点,此时fast指针在2k处\n",
    "    * 假设环的大小为s,则(易证)slow指针和fast指针将在环的开始处前的第k步相遇\n",
    "    * 再将fast指针设置为头节点,且指针跳跃速度为1,则此时fast指针将于slow指针在环的开始处相遇.如下图所示\n",
    "\n",
    "<img src=\"../../Other/img/环的开始.png\">"
   ],
   "metadata": {
    "collapsed": false,
    "pycharm": {
     "name": "#%% md\n"
    }
   }
  },
  {
   "cell_type": "code",
   "execution_count": 1,
   "metadata": {
    "collapsed": true,
    "pycharm": {
     "name": "#%%\n"
    }
   },
   "outputs": [],
   "source": [
    "class Node:\n",
    "    def __init__(self, element, pointer):\n",
    "        self._element = element\n",
    "        self._pointer = pointer\n",
    "\n",
    "\n",
    "def find_beginning(head):  # head:链表的头节点\n",
    "    \"\"\"给定一个循环链表,找到环的开始节点\"\"\"\n",
    "    slow = fast = head\n",
    "\n",
    "    # 使用双指针\n",
    "    while fast._pointer is not None and fast._pointer._pointer is not None:\n",
    "        fast = fast._pointer._pointer\n",
    "        slow = slow._pointer\n",
    "        if slow == fast:  #  # 如果存在存在环,必能使得fast==slow(易证)\n",
    "            fast = head\n",
    "            break\n",
    "\n",
    "    if fast._pointer is None or fast._pointer._pointer is None:\n",
    "        return None\n",
    "\n",
    "    while fast != slow:\n",
    "        fast = fast._pointer\n",
    "        slow = slow._pointer\n",
    "\n",
    "    return fast"
   ]
  },
  {
   "cell_type": "code",
   "execution_count": 2,
   "metadata": {
    "pycharm": {
     "name": "#%%\n"
    }
   },
   "outputs": [
    {
     "name": "stdout",
     "output_type": "stream",
     "text": [
      "3\n"
     ]
    }
   ],
   "source": [
    "node0 = Node(0, None)\n",
    "node1 = Node(1, node0)\n",
    "node2 = Node(2, node1)\n",
    "node3 = Node(3, node2)\n",
    "node4 = Node(4, node3)\n",
    "node5 = Node(5, node4)\n",
    "node0._pointer = node3\n",
    "print(find_beginning(node5)._element)\n"
   ]
  }
 ],
 "metadata": {
  "kernelspec": {
   "display_name": "Python 3",
   "language": "python",
   "name": "python3"
  },
  "language_info": {
   "codemirror_mode": {
    "name": "ipython",
    "version": 3
   },
   "file_extension": ".py",
   "mimetype": "text/x-python",
   "name": "python",
   "nbconvert_exporter": "python",
   "pygments_lexer": "ipython3",
   "version": "3.7.9"
  },
  "toc": {
   "base_numbering": 1,
   "nav_menu": {},
   "number_sections": true,
   "sideBar": true,
   "skip_h1_title": false,
   "title_cell": "Table of Contents",
   "title_sidebar": "Contents",
   "toc_cell": false,
   "toc_position": {},
   "toc_section_display": true,
   "toc_window_display": false
  }
 },
 "nbformat": 4,
 "nbformat_minor": 1
}