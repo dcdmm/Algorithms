{
 "cells": [
  {
   "cell_type": "markdown",
   "id": "a9b7e63b079911d9",
   "metadata": {
    "collapsed": false
   },
   "source": [
    "as shown in Figure 10.4, in which each bucket may manage a collection of items that are sent to a specific index by the hash function. (To save space, an empty bucket may be replaced by None.)\n",
    "\n",
    "<img src='img/桶数组.jpg' style=\"zoom:20%\">\n",
    "\n",
    "## Hash Functions\n",
    "\n",
    "The goal of a hash function, h, is to map each key k to an integer in the range $[0,N −1]$, where $N$ is the capacity of the bucket array for a hash table. Equipped with such a hash function, $h$, the main idea of this approach is to use the hash function value, $h(k)$, as an index into our bucket array, $A$, instead of the key $k$ (which may not be appropriate for direct use as an index). That is, we store the item $(k,v)$ in the bucket $A[h(k)]$.\n",
    "\n",
    "It is common to view the evaluation of a hash function, $h(k)$, as consisting of two portions—a hash code that maps a key k to an integer, and a compression function that maps the hash code to an integer within a range of indices, $[0,N −1]$, for a bucket array.(See Figure 10.5)\n",
    "\n",
    "<img src='img/哈希函数的两个部分.jpg' style=\"zoom:20%\">\n",
    "\n",
    "### 哈希码(hash code)\n",
    "\n",
    "The first action that a hash function performs is to take an arbitrary key k in our map and compute an integer that is called the hash code for k; this integer need not be in the range $[0,N −1]$, and may even be negative. We desire that the set of hash codes assigned to our keys should avoid collisions as much as possible. For if the hash codes of our keys cause collisions, then there is no hope for our compression function to avoid them.\n",
    "\n",
    "### 压缩函数(compression function)\n",
    "\n",
    "The hash code for a key k will typically not be suitable for immediate use with a bucket array, because the integer hash code may be negative or may exceed the capacity of the bucket array. Thus, once we have determined an integer hash code for a key object k, there is still the issue of mapping that integer into the range [0,N−1]. This computation, known as a compression function, is the second action performed as part of an overall hash function. A good compression function is one that minimizes the number of collisions for a given set of distinct hash codes.\n",
    "\n",
    "#### 划分方法\n",
    "\n",
    "A simple compression function is the division method, which maps an integer i to\n",
    "\n",
    "$$ i \\, \\mathrm{mod}  \\, N $$\n",
    "\n",
    "where $N$, the size of the bucket array, is a fixed positive integer. Additionally, if we take $ N $ to be a prime number, then this compression function helps “spread out” the distribution of hashed values. Indeed, if $ N $ is not prime, then there is greater risk that patterns in the distribution of hash codes will be repeated in the distribution of hash values, thereby causing collisions. For example, if we insert keys with hash codes {200,205,210,215,220, . . . ,600} into a bucket array of size 100, then each hash code will collide with three others. But if we use a bucket array of size 101, then there will be no collisions. If a hash function is chosen well, it should ensure that the probability of two different keys getting hashed to the same bucket is $1/N$. Choosing $N$ to be a prime number is not always enough, however, for if there is a repeated pattern of hash codes of the form $pN +q$ for several different $p$’s, then there will still be collisions.\n",
    "\n",
    "#### MAD方法\n",
    "A more sophisticated compression function, which helps eliminate repeated patterns in a set of integer keys, is the Multiply-Add-and-Divide (or “MAD”) method. This method maps an integer i to\n",
    "\n",
    "$$ [(ai + b) \\, \\mathrm{mod} \\, p ] \\, \\mathrm{mod} \\, N $$\n",
    "\n",
    "\n",
    "where $ N $ is the size of the bucket array, $ p $ is a prime number larger than $ N $, and $a$ and $b$ are integers chosen at random from the interval $[0, p−1]$, with $a > 0$. This compression function is chosen in order to eliminate repeated patterns in the set of hash codes and get us closer to having a “good” hash function, that is, one such that the probability any two different keys collide is $ 1/N $. This good behavior would be the same as we would have if these keys were “thrown” into $A$ uniformly at random.\n",
    "\n",
    "\n",
    "### 冲突解决方案\n",
    "\n",
    "The main idea of a hash table is to take a bucket array, $A$, and a hash function, $h$, and use them to implement a map by storing each item $(k,v)$ in the “bucket” $A[h(k)]$. This simple idea is challenged, however, when we have two distinct keys, $k1$ and $k2$, such that $h(k1) = h(k2)$. The existence of such collisions prevents us from simply inserting a new item $(k,v)$ directly into the bucket $A[h(k)]$. It also complicates our procedure for performing insertion, search, and deletion operations.\n",
    "\n",
    "#### 分离链表(separate chaining)\n",
    "\n",
    "A simple and efficient way for dealing with collisions is to have each bucket $A[j]$ store its own secondary container, holding items $(k,v)$ such that $h(k) = j$. This collision resolution rule is known as separate chaining, and is illustrated in Figure 10.6.\n",
    "\n",
    "<img src='img/分离链表.jpg' style=\"zoom:20%\">\n",
    "\n",
    "In the worst case, operations on an individual bucket take time proportional to the size of the bucket. Assuming we use a good hash function to index the n items of our map in a bucket array of capacity $N$, the expected size of a bucket is $n/N$. Therefore, if given a good hash function, the core map operations run in $O(n/N)$. The ratio $ \\lambda = n/N$, called the load factor of the hash table, should be bounded by a small constant, preferably below 1. As long as $\\lambda$ is $O(1)$, the core operations on the hash table run in $O(1)$ expected time."
   ]
  }
 ],
 "metadata": {
  "kernelspec": {
   "display_name": "Python 3",
   "language": "python",
   "name": "python3"
  },
  "language_info": {
   "codemirror_mode": {
    "name": "ipython",
    "version": 2
   },
   "file_extension": ".py",
   "mimetype": "text/x-python",
   "name": "python",
   "nbconvert_exporter": "python",
   "pygments_lexer": "ipython2",
   "version": "2.7.6"
  }
 },
 "nbformat": 4,
 "nbformat_minor": 5
}
